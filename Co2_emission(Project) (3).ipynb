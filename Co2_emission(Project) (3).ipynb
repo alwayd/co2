{
 "cells": [
  {
   "cell_type": "code",
   "execution_count": 1,
   "metadata": {
    "id": "glAtnZHDO_pY"
   },
   "outputs": [],
   "source": [
    "import pandas as pd\n",
    "import numpy as np\n",
    "import seaborn as sns                       #visualisation\n",
    "import matplotlib.pyplot as plt             #visualisation\n",
    "%matplotlib inline\n",
    "import warnings\n",
    "warnings.filterwarnings(\"ignore\")"
   ]
  },
  {
   "cell_type": "markdown",
   "metadata": {
    "id": "MvFUn5nrQGlV"
   },
   "source": [
    "1. Loading the data into the data frame"
   ]
  },
  {
   "cell_type": "code",
   "execution_count": 2,
   "metadata": {
    "colab": {
     "base_uri": "https://localhost:8080/",
     "height": 180
    },
    "id": "TAeQ_7DZO_uc",
    "outputId": "7095709e-1739-45b4-ddbe-92ccbf880c12"
   },
   "outputs": [
    {
     "data": {
      "text/html": [
       "<div>\n",
       "<style scoped>\n",
       "    .dataframe tbody tr th:only-of-type {\n",
       "        vertical-align: middle;\n",
       "    }\n",
       "\n",
       "    .dataframe tbody tr th {\n",
       "        vertical-align: top;\n",
       "    }\n",
       "\n",
       "    .dataframe thead th {\n",
       "        text-align: right;\n",
       "    }\n",
       "</style>\n",
       "<table border=\"1\" class=\"dataframe\">\n",
       "  <thead>\n",
       "    <tr style=\"text-align: right;\">\n",
       "      <th></th>\n",
       "      <th>make</th>\n",
       "      <th>model</th>\n",
       "      <th>vehicle_class</th>\n",
       "      <th>engine_size</th>\n",
       "      <th>cylinders</th>\n",
       "      <th>transmission</th>\n",
       "      <th>fuel_type</th>\n",
       "      <th>fuel_consumption_city</th>\n",
       "      <th>fuel_consumption_hwy</th>\n",
       "      <th>fuel_consumption_comb(l/100km)</th>\n",
       "      <th>fuel_consumption_comb(mpg)</th>\n",
       "      <th>co2_emissions</th>\n",
       "    </tr>\n",
       "  </thead>\n",
       "  <tbody>\n",
       "    <tr>\n",
       "      <th>0</th>\n",
       "      <td>ACURA</td>\n",
       "      <td>ILX</td>\n",
       "      <td>COMPACT</td>\n",
       "      <td>2.0</td>\n",
       "      <td>4</td>\n",
       "      <td>AS</td>\n",
       "      <td>Z</td>\n",
       "      <td>9.9</td>\n",
       "      <td>6.7</td>\n",
       "      <td>8.5</td>\n",
       "      <td>33</td>\n",
       "      <td>196</td>\n",
       "    </tr>\n",
       "    <tr>\n",
       "      <th>1</th>\n",
       "      <td>ACURA</td>\n",
       "      <td>ILX</td>\n",
       "      <td>COMPACT</td>\n",
       "      <td>2.4</td>\n",
       "      <td>4</td>\n",
       "      <td>M</td>\n",
       "      <td>Z</td>\n",
       "      <td>11.2</td>\n",
       "      <td>7.7</td>\n",
       "      <td>9.6</td>\n",
       "      <td>29</td>\n",
       "      <td>221</td>\n",
       "    </tr>\n",
       "    <tr>\n",
       "      <th>2</th>\n",
       "      <td>ACURA</td>\n",
       "      <td>ILX HYBRID</td>\n",
       "      <td>COMPACT</td>\n",
       "      <td>1.5</td>\n",
       "      <td>4</td>\n",
       "      <td>AV</td>\n",
       "      <td>Z</td>\n",
       "      <td>6.0</td>\n",
       "      <td>5.8</td>\n",
       "      <td>5.9</td>\n",
       "      <td>48</td>\n",
       "      <td>136</td>\n",
       "    </tr>\n",
       "  </tbody>\n",
       "</table>\n",
       "</div>"
      ],
      "text/plain": [
       "    make       model vehicle_class  engine_size  cylinders transmission  \\\n",
       "0  ACURA         ILX       COMPACT          2.0          4           AS   \n",
       "1  ACURA         ILX       COMPACT          2.4          4            M   \n",
       "2  ACURA  ILX HYBRID       COMPACT          1.5          4           AV   \n",
       "\n",
       "  fuel_type  fuel_consumption_city  fuel_consumption_hwy  \\\n",
       "0         Z                    9.9                   6.7   \n",
       "1         Z                   11.2                   7.7   \n",
       "2         Z                    6.0                   5.8   \n",
       "\n",
       "   fuel_consumption_comb(l/100km)  fuel_consumption_comb(mpg)  co2_emissions  \n",
       "0                             8.5                          33            196  \n",
       "1                             9.6                          29            221  \n",
       "2                             5.9                          48            136  "
      ]
     },
     "execution_count": 2,
     "metadata": {},
     "output_type": "execute_result"
    }
   ],
   "source": [
    "df=pd.read_csv(\"co2_emissions.csv\")\n",
    "df.head(3)"
   ]
  },
  {
   "cell_type": "code",
   "execution_count": 3,
   "metadata": {
    "colab": {
     "base_uri": "https://localhost:8080/",
     "height": 399
    },
    "id": "_cjso_wwO_wp",
    "outputId": "1cdd3db5-e294-4454-fbae-c0125f217630"
   },
   "outputs": [
    {
     "data": {
      "text/html": [
       "<div>\n",
       "<style scoped>\n",
       "    .dataframe tbody tr th:only-of-type {\n",
       "        vertical-align: middle;\n",
       "    }\n",
       "\n",
       "    .dataframe tbody tr th {\n",
       "        vertical-align: top;\n",
       "    }\n",
       "\n",
       "    .dataframe thead th {\n",
       "        text-align: right;\n",
       "    }\n",
       "</style>\n",
       "<table border=\"1\" class=\"dataframe\">\n",
       "  <thead>\n",
       "    <tr style=\"text-align: right;\">\n",
       "      <th></th>\n",
       "      <th>make</th>\n",
       "      <th>model</th>\n",
       "      <th>vehicle_class</th>\n",
       "      <th>engine_size</th>\n",
       "      <th>cylinders</th>\n",
       "      <th>transmission</th>\n",
       "      <th>fuel_type</th>\n",
       "      <th>fuel_consumption_city</th>\n",
       "      <th>fuel_consumption_hwy</th>\n",
       "      <th>fuel_consumption_comb(l/100km)</th>\n",
       "      <th>fuel_consumption_comb(mpg)</th>\n",
       "      <th>co2_emissions</th>\n",
       "    </tr>\n",
       "  </thead>\n",
       "  <tbody>\n",
       "    <tr>\n",
       "      <th>7380</th>\n",
       "      <td>VOLVO</td>\n",
       "      <td>XC40 T5 AWD</td>\n",
       "      <td>SUV - SMALL</td>\n",
       "      <td>2.0</td>\n",
       "      <td>4</td>\n",
       "      <td>AS</td>\n",
       "      <td>Z</td>\n",
       "      <td>10.7</td>\n",
       "      <td>7.7</td>\n",
       "      <td>9.4</td>\n",
       "      <td>30</td>\n",
       "      <td>219</td>\n",
       "    </tr>\n",
       "    <tr>\n",
       "      <th>7381</th>\n",
       "      <td>VOLVO</td>\n",
       "      <td>XC60 T5 AWD</td>\n",
       "      <td>SUV - SMALL</td>\n",
       "      <td>2.0</td>\n",
       "      <td>4</td>\n",
       "      <td>AS</td>\n",
       "      <td>Z</td>\n",
       "      <td>11.2</td>\n",
       "      <td>8.3</td>\n",
       "      <td>9.9</td>\n",
       "      <td>29</td>\n",
       "      <td>232</td>\n",
       "    </tr>\n",
       "    <tr>\n",
       "      <th>7382</th>\n",
       "      <td>VOLVO</td>\n",
       "      <td>XC60 T6 AWD</td>\n",
       "      <td>SUV - SMALL</td>\n",
       "      <td>2.0</td>\n",
       "      <td>4</td>\n",
       "      <td>AS</td>\n",
       "      <td>Z</td>\n",
       "      <td>11.7</td>\n",
       "      <td>8.6</td>\n",
       "      <td>10.3</td>\n",
       "      <td>27</td>\n",
       "      <td>240</td>\n",
       "    </tr>\n",
       "    <tr>\n",
       "      <th>7383</th>\n",
       "      <td>VOLVO</td>\n",
       "      <td>XC90 T5 AWD</td>\n",
       "      <td>SUV - STANDARD</td>\n",
       "      <td>2.0</td>\n",
       "      <td>4</td>\n",
       "      <td>AS</td>\n",
       "      <td>Z</td>\n",
       "      <td>11.2</td>\n",
       "      <td>8.3</td>\n",
       "      <td>9.9</td>\n",
       "      <td>29</td>\n",
       "      <td>232</td>\n",
       "    </tr>\n",
       "    <tr>\n",
       "      <th>7384</th>\n",
       "      <td>VOLVO</td>\n",
       "      <td>XC90 T6 AWD</td>\n",
       "      <td>SUV - STANDARD</td>\n",
       "      <td>2.0</td>\n",
       "      <td>4</td>\n",
       "      <td>AS</td>\n",
       "      <td>Z</td>\n",
       "      <td>12.2</td>\n",
       "      <td>8.7</td>\n",
       "      <td>10.7</td>\n",
       "      <td>26</td>\n",
       "      <td>248</td>\n",
       "    </tr>\n",
       "  </tbody>\n",
       "</table>\n",
       "</div>"
      ],
      "text/plain": [
       "       make        model   vehicle_class  engine_size  cylinders transmission  \\\n",
       "7380  VOLVO  XC40 T5 AWD     SUV - SMALL          2.0          4           AS   \n",
       "7381  VOLVO  XC60 T5 AWD     SUV - SMALL          2.0          4           AS   \n",
       "7382  VOLVO  XC60 T6 AWD     SUV - SMALL          2.0          4           AS   \n",
       "7383  VOLVO  XC90 T5 AWD  SUV - STANDARD          2.0          4           AS   \n",
       "7384  VOLVO  XC90 T6 AWD  SUV - STANDARD          2.0          4           AS   \n",
       "\n",
       "     fuel_type  fuel_consumption_city  fuel_consumption_hwy  \\\n",
       "7380         Z                   10.7                   7.7   \n",
       "7381         Z                   11.2                   8.3   \n",
       "7382         Z                   11.7                   8.6   \n",
       "7383         Z                   11.2                   8.3   \n",
       "7384         Z                   12.2                   8.7   \n",
       "\n",
       "      fuel_consumption_comb(l/100km)  fuel_consumption_comb(mpg)  \\\n",
       "7380                             9.4                          30   \n",
       "7381                             9.9                          29   \n",
       "7382                            10.3                          27   \n",
       "7383                             9.9                          29   \n",
       "7384                            10.7                          26   \n",
       "\n",
       "      co2_emissions  \n",
       "7380            219  \n",
       "7381            232  \n",
       "7382            240  \n",
       "7383            232  \n",
       "7384            248  "
      ]
     },
     "execution_count": 3,
     "metadata": {},
     "output_type": "execute_result"
    }
   ],
   "source": [
    "df.tail()"
   ]
  },
  {
   "cell_type": "markdown",
   "metadata": {
    "id": "9XwVhI1pQlnd"
   },
   "source": [
    "2. Checking the types of data\n",
    "\n",
    "\n"
   ]
  },
  {
   "cell_type": "code",
   "execution_count": 4,
   "metadata": {
    "colab": {
     "base_uri": "https://localhost:8080/"
    },
    "id": "JZFeip5CO_1c",
    "outputId": "64755794-b7a6-4630-b08a-40783eccdc79"
   },
   "outputs": [
    {
     "data": {
      "text/plain": [
       "make                               object\n",
       "model                              object\n",
       "vehicle_class                      object\n",
       "engine_size                       float64\n",
       "cylinders                           int64\n",
       "transmission                       object\n",
       "fuel_type                          object\n",
       "fuel_consumption_city             float64\n",
       "fuel_consumption_hwy              float64\n",
       "fuel_consumption_comb(l/100km)    float64\n",
       "fuel_consumption_comb(mpg)          int64\n",
       "co2_emissions                       int64\n",
       "dtype: object"
      ]
     },
     "execution_count": 4,
     "metadata": {},
     "output_type": "execute_result"
    }
   ],
   "source": [
    "# dtype will identify the data type of the data\n",
    "df.dtypes"
   ]
  },
  {
   "cell_type": "markdown",
   "metadata": {
    "id": "BHRhlIvwBQUT"
   },
   "source": [
    "1. There are total 7385 row and 12 columns.\n",
    "2. We can see that there are total 7 columns with numerical values and other 5 have character values.\n",
    "3. The columns Engine Size, Cylinders, Fuel Consumption City (L/100 km), Fuel Consumption Hwy (L/100 km), Fuel Consumption Comb (L/100 km), Fuel Consumption Comb (mpg) and CO2 Emissions are numerical and continuous in nature.\n",
    "4. The columns Make, Model, Vehicle Class, Transmission and Fuel Type are categorical in nature."
   ]
  },
  {
   "cell_type": "code",
   "execution_count": 5,
   "metadata": {
    "colab": {
     "base_uri": "https://localhost:8080/"
    },
    "id": "vWb0YHDQO_3_",
    "outputId": "d17a06e3-6def-4898-bf19-d87eb4e05404"
   },
   "outputs": [
    {
     "name": "stdout",
     "output_type": "stream",
     "text": [
      "<class 'pandas.core.frame.DataFrame'>\n",
      "RangeIndex: 7385 entries, 0 to 7384\n",
      "Data columns (total 12 columns):\n",
      " #   Column                          Non-Null Count  Dtype  \n",
      "---  ------                          --------------  -----  \n",
      " 0   make                            7385 non-null   object \n",
      " 1   model                           7385 non-null   object \n",
      " 2   vehicle_class                   7385 non-null   object \n",
      " 3   engine_size                     7385 non-null   float64\n",
      " 4   cylinders                       7385 non-null   int64  \n",
      " 5   transmission                    7385 non-null   object \n",
      " 6   fuel_type                       7385 non-null   object \n",
      " 7   fuel_consumption_city           7385 non-null   float64\n",
      " 8   fuel_consumption_hwy            7385 non-null   float64\n",
      " 9   fuel_consumption_comb(l/100km)  7385 non-null   float64\n",
      " 10  fuel_consumption_comb(mpg)      7385 non-null   int64  \n",
      " 11  co2_emissions                   7385 non-null   int64  \n",
      "dtypes: float64(4), int64(3), object(5)\n",
      "memory usage: 692.5+ KB\n"
     ]
    }
   ],
   "source": [
    "# Checking for the data types and null values\n",
    "df.info()"
   ]
  },
  {
   "cell_type": "code",
   "execution_count": 6,
   "metadata": {
    "colab": {
     "base_uri": "https://localhost:8080/",
     "height": 206
    },
    "id": "6T3ME1DIMV6_",
    "outputId": "a499f604-00a7-45d1-ac45-32228869c51e"
   },
   "outputs": [
    {
     "data": {
      "text/html": [
       "<div>\n",
       "<style scoped>\n",
       "    .dataframe tbody tr th:only-of-type {\n",
       "        vertical-align: middle;\n",
       "    }\n",
       "\n",
       "    .dataframe tbody tr th {\n",
       "        vertical-align: top;\n",
       "    }\n",
       "\n",
       "    .dataframe thead th {\n",
       "        text-align: right;\n",
       "    }\n",
       "</style>\n",
       "<table border=\"1\" class=\"dataframe\">\n",
       "  <thead>\n",
       "    <tr style=\"text-align: right;\">\n",
       "      <th></th>\n",
       "      <th>count</th>\n",
       "      <th>unique</th>\n",
       "      <th>top</th>\n",
       "      <th>freq</th>\n",
       "    </tr>\n",
       "  </thead>\n",
       "  <tbody>\n",
       "    <tr>\n",
       "      <th>make</th>\n",
       "      <td>7385</td>\n",
       "      <td>42</td>\n",
       "      <td>FORD</td>\n",
       "      <td>628</td>\n",
       "    </tr>\n",
       "    <tr>\n",
       "      <th>model</th>\n",
       "      <td>7385</td>\n",
       "      <td>2053</td>\n",
       "      <td>F-150 FFV 4X4</td>\n",
       "      <td>32</td>\n",
       "    </tr>\n",
       "    <tr>\n",
       "      <th>vehicle_class</th>\n",
       "      <td>7385</td>\n",
       "      <td>16</td>\n",
       "      <td>SUV - SMALL</td>\n",
       "      <td>1217</td>\n",
       "    </tr>\n",
       "    <tr>\n",
       "      <th>transmission</th>\n",
       "      <td>7385</td>\n",
       "      <td>5</td>\n",
       "      <td>AS</td>\n",
       "      <td>3127</td>\n",
       "    </tr>\n",
       "    <tr>\n",
       "      <th>fuel_type</th>\n",
       "      <td>7385</td>\n",
       "      <td>5</td>\n",
       "      <td>X</td>\n",
       "      <td>3637</td>\n",
       "    </tr>\n",
       "  </tbody>\n",
       "</table>\n",
       "</div>"
      ],
      "text/plain": [
       "              count unique            top  freq\n",
       "make           7385     42           FORD   628\n",
       "model          7385   2053  F-150 FFV 4X4    32\n",
       "vehicle_class  7385     16    SUV - SMALL  1217\n",
       "transmission   7385      5             AS  3127\n",
       "fuel_type      7385      5              X  3637"
      ]
     },
     "execution_count": 6,
     "metadata": {},
     "output_type": "execute_result"
    }
   ],
   "source": [
    "df.select_dtypes(include='object').describe().T"
   ]
  },
  {
   "cell_type": "code",
   "execution_count": 7,
   "metadata": {
    "colab": {
     "base_uri": "https://localhost:8080/"
    },
    "id": "PKRp5IhqGmlX",
    "outputId": "51aac3ea-140d-49ba-a10e-4a54b0cbbf6b"
   },
   "outputs": [
    {
     "data": {
      "text/plain": [
       "(7385, 12)"
      ]
     },
     "execution_count": 7,
     "metadata": {},
     "output_type": "execute_result"
    }
   ],
   "source": [
    "#checking the shape of the data set\n",
    "df.shape"
   ]
  },
  {
   "cell_type": "markdown",
   "metadata": {
    "id": "QMtrn3LeMY3K"
   },
   "source": [
    "shape()\n",
    "\n",
    "The shape attribute in pandas is used to get the dimensions of a DataFrame. It returns a tuple representing the number of rows and columns in the DataFrame. The first element of the tuple is the number of rows, and the second element is the number of columns.\n",
    "\n",
    "1)In this data we have 7385 rows and 12 cols."
   ]
  },
  {
   "cell_type": "code",
   "execution_count": 8,
   "metadata": {
    "colab": {
     "base_uri": "https://localhost:8080/",
     "height": 269
    },
    "id": "iB9HILIHGmy8",
    "outputId": "741229cf-943f-45d8-942e-e1a43ecf69b5"
   },
   "outputs": [
    {
     "data": {
      "text/html": [
       "<div>\n",
       "<style scoped>\n",
       "    .dataframe tbody tr th:only-of-type {\n",
       "        vertical-align: middle;\n",
       "    }\n",
       "\n",
       "    .dataframe tbody tr th {\n",
       "        vertical-align: top;\n",
       "    }\n",
       "\n",
       "    .dataframe thead th {\n",
       "        text-align: right;\n",
       "    }\n",
       "</style>\n",
       "<table border=\"1\" class=\"dataframe\">\n",
       "  <thead>\n",
       "    <tr style=\"text-align: right;\">\n",
       "      <th></th>\n",
       "      <th>count</th>\n",
       "      <th>mean</th>\n",
       "      <th>std</th>\n",
       "      <th>min</th>\n",
       "      <th>25%</th>\n",
       "      <th>50%</th>\n",
       "      <th>75%</th>\n",
       "      <th>max</th>\n",
       "    </tr>\n",
       "  </thead>\n",
       "  <tbody>\n",
       "    <tr>\n",
       "      <th>engine_size</th>\n",
       "      <td>7385.0</td>\n",
       "      <td>3.160068</td>\n",
       "      <td>1.354170</td>\n",
       "      <td>0.9</td>\n",
       "      <td>2.0</td>\n",
       "      <td>3.0</td>\n",
       "      <td>3.7</td>\n",
       "      <td>8.4</td>\n",
       "    </tr>\n",
       "    <tr>\n",
       "      <th>cylinders</th>\n",
       "      <td>7385.0</td>\n",
       "      <td>5.615030</td>\n",
       "      <td>1.828307</td>\n",
       "      <td>3.0</td>\n",
       "      <td>4.0</td>\n",
       "      <td>6.0</td>\n",
       "      <td>6.0</td>\n",
       "      <td>16.0</td>\n",
       "    </tr>\n",
       "    <tr>\n",
       "      <th>fuel_consumption_city</th>\n",
       "      <td>7385.0</td>\n",
       "      <td>12.556534</td>\n",
       "      <td>3.500274</td>\n",
       "      <td>4.2</td>\n",
       "      <td>10.1</td>\n",
       "      <td>12.1</td>\n",
       "      <td>14.6</td>\n",
       "      <td>30.6</td>\n",
       "    </tr>\n",
       "    <tr>\n",
       "      <th>fuel_consumption_hwy</th>\n",
       "      <td>7385.0</td>\n",
       "      <td>9.041706</td>\n",
       "      <td>2.224456</td>\n",
       "      <td>4.0</td>\n",
       "      <td>7.5</td>\n",
       "      <td>8.7</td>\n",
       "      <td>10.2</td>\n",
       "      <td>20.6</td>\n",
       "    </tr>\n",
       "    <tr>\n",
       "      <th>fuel_consumption_comb(l/100km)</th>\n",
       "      <td>7385.0</td>\n",
       "      <td>10.975071</td>\n",
       "      <td>2.892506</td>\n",
       "      <td>4.1</td>\n",
       "      <td>8.9</td>\n",
       "      <td>10.6</td>\n",
       "      <td>12.6</td>\n",
       "      <td>26.1</td>\n",
       "    </tr>\n",
       "    <tr>\n",
       "      <th>fuel_consumption_comb(mpg)</th>\n",
       "      <td>7385.0</td>\n",
       "      <td>27.481652</td>\n",
       "      <td>7.231879</td>\n",
       "      <td>11.0</td>\n",
       "      <td>22.0</td>\n",
       "      <td>27.0</td>\n",
       "      <td>32.0</td>\n",
       "      <td>69.0</td>\n",
       "    </tr>\n",
       "    <tr>\n",
       "      <th>co2_emissions</th>\n",
       "      <td>7385.0</td>\n",
       "      <td>250.584699</td>\n",
       "      <td>58.512679</td>\n",
       "      <td>96.0</td>\n",
       "      <td>208.0</td>\n",
       "      <td>246.0</td>\n",
       "      <td>288.0</td>\n",
       "      <td>522.0</td>\n",
       "    </tr>\n",
       "  </tbody>\n",
       "</table>\n",
       "</div>"
      ],
      "text/plain": [
       "                                 count        mean        std   min    25%  \\\n",
       "engine_size                     7385.0    3.160068   1.354170   0.9    2.0   \n",
       "cylinders                       7385.0    5.615030   1.828307   3.0    4.0   \n",
       "fuel_consumption_city           7385.0   12.556534   3.500274   4.2   10.1   \n",
       "fuel_consumption_hwy            7385.0    9.041706   2.224456   4.0    7.5   \n",
       "fuel_consumption_comb(l/100km)  7385.0   10.975071   2.892506   4.1    8.9   \n",
       "fuel_consumption_comb(mpg)      7385.0   27.481652   7.231879  11.0   22.0   \n",
       "co2_emissions                   7385.0  250.584699  58.512679  96.0  208.0   \n",
       "\n",
       "                                  50%    75%    max  \n",
       "engine_size                       3.0    3.7    8.4  \n",
       "cylinders                         6.0    6.0   16.0  \n",
       "fuel_consumption_city            12.1   14.6   30.6  \n",
       "fuel_consumption_hwy              8.7   10.2   20.6  \n",
       "fuel_consumption_comb(l/100km)   10.6   12.6   26.1  \n",
       "fuel_consumption_comb(mpg)       27.0   32.0   69.0  \n",
       "co2_emissions                   246.0  288.0  522.0  "
      ]
     },
     "execution_count": 8,
     "metadata": {},
     "output_type": "execute_result"
    }
   ],
   "source": [
    "df.describe().T"
   ]
  },
  {
   "cell_type": "code",
   "execution_count": null,
   "metadata": {
    "id": "ZUaozxXILvai"
   },
   "outputs": [],
   "source": []
  },
  {
   "cell_type": "markdown",
   "metadata": {
    "id": "grVP36qmLwz6"
   },
   "source": [
    "describe()\n",
    "\n",
    "Count: Number of non-null entries.\n",
    "\n",
    "Mean: Mean or average value.\n",
    "\n",
    "std: Standard deviation, a measure of the amount of variation or dispersion in a set of values.\n",
    "\n",
    "min: Minimum value.\n",
    "\n",
    "25%: First quartile (Q1), the value below which 25% of the data falls.\n",
    "\n",
    "50%: Median or second quartile (Q2), the value below which 50% of the data falls.\n",
    "\n",
    "75%: Third quartile (Q3), the value below which 75% of the data falls.\n",
    "max: Maximum value.\n"
   ]
  },
  {
   "cell_type": "code",
   "execution_count": 9,
   "metadata": {
    "colab": {
     "base_uri": "https://localhost:8080/"
    },
    "id": "pJMUYLSVGm1l",
    "outputId": "09226248-d497-452d-9478-69835eba13ff"
   },
   "outputs": [
    {
     "name": "stdout",
     "output_type": "stream",
     "text": [
      "There are 1112 duplicated rows in the data\n"
     ]
    }
   ],
   "source": [
    "# checking the duplicate value\n",
    "duplicate = df.duplicated().sum()\n",
    "print('There are {} duplicated rows in the data'.format(duplicate))"
   ]
  },
  {
   "cell_type": "code",
   "execution_count": 10,
   "metadata": {
    "id": "h_tpX_LkSZP0"
   },
   "outputs": [],
   "source": [
    "# we have to remove 1112 duplicates rows in our data"
   ]
  },
  {
   "cell_type": "code",
   "execution_count": 11,
   "metadata": {
    "id": "l0xZg_QOGm4i"
   },
   "outputs": [],
   "source": [
    "df.drop_duplicates(inplace=True)"
   ]
  },
  {
   "cell_type": "code",
   "execution_count": 12,
   "metadata": {
    "id": "XYCldJc5Gm6o"
   },
   "outputs": [],
   "source": [
    "df.reset_index(inplace=True, drop=True)"
   ]
  },
  {
   "cell_type": "code",
   "execution_count": 13,
   "metadata": {
    "colab": {
     "base_uri": "https://localhost:8080/"
    },
    "id": "WIOSjkmcGm95",
    "outputId": "185d589d-2e7a-4cd8-8458-c07dc197a527"
   },
   "outputs": [
    {
     "data": {
      "text/plain": [
       "(6273, 12)"
      ]
     },
     "execution_count": 13,
     "metadata": {},
     "output_type": "execute_result"
    }
   ],
   "source": [
    "# After removing the duplicate values\n",
    "# we have 6273 rows and 12 cols\n",
    "df.shape"
   ]
  },
  {
   "cell_type": "markdown",
   "metadata": {
    "id": "OWVrGErZJI4t"
   },
   "source": [
    "Visualization\n",
    "\n",
    "Brands of Cars\n",
    "\n",
    "\n"
   ]
  },
  {
   "cell_type": "code",
   "execution_count": 14,
   "metadata": {
    "id": "WLdFA_nQVoy-"
   },
   "outputs": [],
   "source": [
    "df['make'] = df['make'].replace(['BUGATTI', 'PORSCHE', 'MASERATI', 'ASTON MARTIN', 'LAMBORGHINI', 'JAGUAR','SRT'], 'Sports')\n",
    "df['make'] = df['make'].replace(['ALFA ROMEO', 'AUDI', 'BMW', 'BUICK', 'CADILLAC', 'CHRYSLER', 'DODGE', 'GMC','INFINITI', 'JEEP', 'LAND ROVER', 'LEXUS', 'MERCEDES-BENZ','MINI', 'SMART', 'VOLVO'],'Premium')\n",
    "df['make'] = df['make'].replace(['ACURA', 'BENTLEY', 'LINCOLN', 'ROLLS-ROYCE',  'GENESIS'], 'Luxury')\n",
    "df['make'] = df['make'].replace(['CHEVROLET', 'FIAT', 'FORD', 'KIA', 'HONDA', 'HYUNDAI', 'MAZDA', 'MITSUBISHI','NISSAN', 'RAM', 'SCION', 'SUBARU', 'TOYOTA','VOLKSWAGEN'],'General')"
   ]
  },
  {
   "cell_type": "code",
   "execution_count": 15,
   "metadata": {
    "colab": {
     "base_uri": "https://localhost:8080/",
     "height": 192
    },
    "id": "_kTta_dhIcBu",
    "outputId": "d83575cd-e786-49d5-92c7-30ec7221d68f"
   },
   "outputs": [
    {
     "name": "stdout",
     "output_type": "stream",
     "text": [
      "We have total 4 Car Companies Data\n"
     ]
    },
    {
     "data": {
      "text/html": [
       "<div>\n",
       "<style scoped>\n",
       "    .dataframe tbody tr th:only-of-type {\n",
       "        vertical-align: middle;\n",
       "    }\n",
       "\n",
       "    .dataframe tbody tr th {\n",
       "        vertical-align: top;\n",
       "    }\n",
       "\n",
       "    .dataframe thead th {\n",
       "        text-align: right;\n",
       "    }\n",
       "</style>\n",
       "<table border=\"1\" class=\"dataframe\">\n",
       "  <thead>\n",
       "    <tr style=\"text-align: right;\">\n",
       "      <th></th>\n",
       "      <th>make</th>\n",
       "      <th>Count</th>\n",
       "    </tr>\n",
       "  </thead>\n",
       "  <tbody>\n",
       "    <tr>\n",
       "      <th>0</th>\n",
       "      <td>General</td>\n",
       "      <td>2767</td>\n",
       "    </tr>\n",
       "    <tr>\n",
       "      <th>1</th>\n",
       "      <td>Premium</td>\n",
       "      <td>2731</td>\n",
       "    </tr>\n",
       "    <tr>\n",
       "      <th>2</th>\n",
       "      <td>Sports</td>\n",
       "      <td>546</td>\n",
       "    </tr>\n",
       "    <tr>\n",
       "      <th>3</th>\n",
       "      <td>Luxury</td>\n",
       "      <td>229</td>\n",
       "    </tr>\n",
       "  </tbody>\n",
       "</table>\n",
       "</div>"
      ],
      "text/plain": [
       "      make  Count\n",
       "0  General   2767\n",
       "1  Premium   2731\n",
       "2   Sports    546\n",
       "3   Luxury    229"
      ]
     },
     "execution_count": 15,
     "metadata": {},
     "output_type": "execute_result"
    }
   ],
   "source": [
    "print(\"We have total\",len(df['make'].unique()),\"Car Companies Data\")\n",
    "df_brand = df['make'].value_counts().reset_index().rename(columns={'index':'make','make':'Count'})\n",
    "df_brand.head(10)\n"
   ]
  },
  {
   "cell_type": "code",
   "execution_count": 16,
   "metadata": {
    "colab": {
     "base_uri": "https://localhost:8080/",
     "height": 444
    },
    "id": "O-CoQBmKIcE6",
    "outputId": "056786f4-8918-4208-ed74-6dbbe7ecf6cb"
   },
   "outputs": [
    {
     "data": {
      "image/png": "[encoded data removed]",
      "text/plain": [
       "<Figure size 1440x432 with 1 Axes>"
      ]
     },
     "metadata": {
      "needs_background": "light"
     },
     "output_type": "display_data"
    }
   ],
   "source": [
    "plt.figure(figsize=(20,6))\n",
    "figure1 = sns.barplot(data = df_brand, x = \"make\",  y= \"Count\")\n",
    "plt.xticks(rotation = 75)\n",
    "plt.title(\"All Car Companies and their Cars\")\n",
    "plt.xlabel(\"Companies\")\n",
    "plt.ylabel(\"Cars\")\n",
    "plt.bar_label(figure1.containers[0])\n",
    "plt.show()"
   ]
  },
  {
   "cell_type": "code",
   "execution_count": null,
   "metadata": {
    "id": "uozm7ALmJtFX"
   },
   "outputs": [],
   "source": []
  },
  {
   "cell_type": "markdown",
   "metadata": {
    "id": "MkKhIIbrJ13n"
   },
   "source": [
    "Models of cars\n"
   ]
  },
  {
   "cell_type": "code",
   "execution_count": 17,
   "metadata": {
    "colab": {
     "base_uri": "https://localhost:8080/",
     "height": 380
    },
    "id": "WfTlXb8PJtIQ",
    "outputId": "06967c48-2716-48c9-efca-9ed7c7210f09"
   },
   "outputs": [
    {
     "name": "stdout",
     "output_type": "stream",
     "text": [
      "We have total 2053 Car Models\n"
     ]
    },
    {
     "data": {
      "text/html": [
       "<div>\n",
       "<style scoped>\n",
       "    .dataframe tbody tr th:only-of-type {\n",
       "        vertical-align: middle;\n",
       "    }\n",
       "\n",
       "    .dataframe tbody tr th {\n",
       "        vertical-align: top;\n",
       "    }\n",
       "\n",
       "    .dataframe thead th {\n",
       "        text-align: right;\n",
       "    }\n",
       "</style>\n",
       "<table border=\"1\" class=\"dataframe\">\n",
       "  <thead>\n",
       "    <tr style=\"text-align: right;\">\n",
       "      <th></th>\n",
       "      <th>model</th>\n",
       "      <th>Count</th>\n",
       "    </tr>\n",
       "  </thead>\n",
       "  <tbody>\n",
       "    <tr>\n",
       "      <th>0</th>\n",
       "      <td>F-150 FFV</td>\n",
       "      <td>32</td>\n",
       "    </tr>\n",
       "    <tr>\n",
       "      <th>1</th>\n",
       "      <td>F-150 FFV 4X4</td>\n",
       "      <td>31</td>\n",
       "    </tr>\n",
       "    <tr>\n",
       "      <th>2</th>\n",
       "      <td>MUSTANG</td>\n",
       "      <td>26</td>\n",
       "    </tr>\n",
       "    <tr>\n",
       "      <th>3</th>\n",
       "      <td>FOCUS FFV</td>\n",
       "      <td>24</td>\n",
       "    </tr>\n",
       "    <tr>\n",
       "      <th>4</th>\n",
       "      <td>F-150 4X4</td>\n",
       "      <td>20</td>\n",
       "    </tr>\n",
       "    <tr>\n",
       "      <th>5</th>\n",
       "      <td>F-150</td>\n",
       "      <td>19</td>\n",
       "    </tr>\n",
       "    <tr>\n",
       "      <th>6</th>\n",
       "      <td>SONIC 5</td>\n",
       "      <td>18</td>\n",
       "    </tr>\n",
       "    <tr>\n",
       "      <th>7</th>\n",
       "      <td>ATS</td>\n",
       "      <td>18</td>\n",
       "    </tr>\n",
       "    <tr>\n",
       "      <th>8</th>\n",
       "      <td>JETTA</td>\n",
       "      <td>18</td>\n",
       "    </tr>\n",
       "    <tr>\n",
       "      <th>9</th>\n",
       "      <td>COMPASS</td>\n",
       "      <td>18</td>\n",
       "    </tr>\n",
       "  </tbody>\n",
       "</table>\n",
       "</div>"
      ],
      "text/plain": [
       "           model  Count\n",
       "0      F-150 FFV     32\n",
       "1  F-150 FFV 4X4     31\n",
       "2        MUSTANG     26\n",
       "3      FOCUS FFV     24\n",
       "4      F-150 4X4     20\n",
       "5          F-150     19\n",
       "6        SONIC 5     18\n",
       "7            ATS     18\n",
       "8          JETTA     18\n",
       "9        COMPASS     18"
      ]
     },
     "execution_count": 17,
     "metadata": {},
     "output_type": "execute_result"
    }
   ],
   "source": [
    "print(\"We have total\",len(df['model'].unique()),\"Car Models\")\n",
    "df_model = df['model'].value_counts().reset_index().rename(columns={'index':'model','model':'Count'})[:25]\n",
    "df_model.head(10)"
   ]
  },
  {
   "cell_type": "code",
   "execution_count": 18,
   "metadata": {
    "colab": {
     "base_uri": "https://localhost:8080/",
     "height": 489
    },
    "id": "oeUrLXShJtK5",
    "outputId": "f7b006c5-91c0-402c-f423-676b32b5a4f3"
   },
   "outputs": [
    {
     "data": {
      "image/png": "[encoded data removed]",
      "text/plain": [
       "<Figure size 1440x432 with 1 Axes>"
      ]
     },
     "metadata": {
      "needs_background": "light"
     },
     "output_type": "display_data"
    }
   ],
   "source": [
    "plt.figure(figsize=(20,6))\n",
    "figure2 = sns.barplot(data = df_model, x = \"model\",  y= \"Count\")\n",
    "plt.xticks(rotation = 75)\n",
    "plt.title(\"Top 25 Car Models\")\n",
    "plt.xlabel(\"Models\")\n",
    "plt.ylabel(\"Cars\")\n",
    "plt.bar_label(figure2.containers[0])\n",
    "plt.show()"
   ]
  },
  {
   "cell_type": "markdown",
   "metadata": {
    "id": "Sdg6p_9PKOHp"
   },
   "source": [
    "Vehicle Class"
   ]
  },
  {
   "cell_type": "code",
   "execution_count": 19,
   "metadata": {
    "id": "RbhdzNNlXFy4"
   },
   "outputs": [],
   "source": [
    "df['vehicle_class'] = df['vehicle_class'].replace(['COMPACT', 'MINICOMPACT', 'SUBCOMPACT'], 'Hatchback')\n",
    "df['vehicle_class'] = df['vehicle_class'].replace(['MID-SIZE', 'TWO-SEATER', 'FULL-SIZE', 'STATION WAGON - SMALL', 'STATION WAGON - MID-SIZE'],'Sedan')\n",
    "df['vehicle_class'] = df['vehicle_class'].replace(['SUV - SMALL', 'SUV - STANDARD', 'MINIVAN'],  'SUV')\n",
    "df['vehicle_class'] = df['vehicle_class'].replace(['VAN - CARGO', 'VAN - PASSENGER', 'PICKUP TRUCK - STANDARD', 'SPECIAL PURPOSE VEHICLE', 'PICKUP TRUCK - SMALL'], 'Truck')"
   ]
  },
  {
   "cell_type": "code",
   "execution_count": 20,
   "metadata": {
    "colab": {
     "base_uri": "https://localhost:8080/",
     "height": 192
    },
    "id": "9qjVUZHrJtUC",
    "outputId": "9d4ce1bc-5a83-4d80-ab3b-91bad0f36496"
   },
   "outputs": [
    {
     "name": "stdout",
     "output_type": "stream",
     "text": [
      "We have total 4 Vehicle Class\n"
     ]
    },
    {
     "data": {
      "text/html": [
       "<div>\n",
       "<style scoped>\n",
       "    .dataframe tbody tr th:only-of-type {\n",
       "        vertical-align: middle;\n",
       "    }\n",
       "\n",
       "    .dataframe tbody tr th {\n",
       "        vertical-align: top;\n",
       "    }\n",
       "\n",
       "    .dataframe thead th {\n",
       "        text-align: right;\n",
       "    }\n",
       "</style>\n",
       "<table border=\"1\" class=\"dataframe\">\n",
       "  <thead>\n",
       "    <tr style=\"text-align: right;\">\n",
       "      <th></th>\n",
       "      <th>vehicle_class</th>\n",
       "      <th>Count</th>\n",
       "    </tr>\n",
       "  </thead>\n",
       "  <tbody>\n",
       "    <tr>\n",
       "      <th>0</th>\n",
       "      <td>Sedan</td>\n",
       "      <td>2127</td>\n",
       "    </tr>\n",
       "    <tr>\n",
       "      <th>1</th>\n",
       "      <td>Hatchback</td>\n",
       "      <td>1708</td>\n",
       "    </tr>\n",
       "    <tr>\n",
       "      <th>2</th>\n",
       "      <td>SUV</td>\n",
       "      <td>1678</td>\n",
       "    </tr>\n",
       "    <tr>\n",
       "      <th>3</th>\n",
       "      <td>Truck</td>\n",
       "      <td>760</td>\n",
       "    </tr>\n",
       "  </tbody>\n",
       "</table>\n",
       "</div>"
      ],
      "text/plain": [
       "  vehicle_class  Count\n",
       "0         Sedan   2127\n",
       "1     Hatchback   1708\n",
       "2           SUV   1678\n",
       "3         Truck    760"
      ]
     },
     "execution_count": 20,
     "metadata": {},
     "output_type": "execute_result"
    }
   ],
   "source": [
    "print(\"We have total\",len(df['vehicle_class'].unique()),\"Vehicle Class\")\n",
    "df_vehicle_class = df['vehicle_class'].value_counts().reset_index().rename(columns={'index':'vehicle_class','vehicle_class':'Count'})\n",
    "df_vehicle_class"
   ]
  },
  {
   "cell_type": "code",
   "execution_count": 21,
   "metadata": {
    "colab": {
     "base_uri": "https://localhost:8080/",
     "height": 399
    },
    "id": "8fBmplVZJtXF",
    "outputId": "18e04450-0da1-4791-8af4-509ae6b8ef46"
   },
   "outputs": [
    {
     "data": {
      "image/png": "[encoded data removed]",
      "text/plain": [
       "<Figure size 1440x360 with 1 Axes>"
      ]
     },
     "metadata": {
      "needs_background": "light"
     },
     "output_type": "display_data"
    }
   ],
   "source": [
    "plt.figure(figsize=(20,5))\n",
    "figure3 = sns.barplot(data = df_vehicle_class, x = \"vehicle_class\",  y= \"Count\")\n",
    "plt.xticks(rotation = 75)\n",
    "plt.title(\"All Vehicle Class\")\n",
    "plt.xlabel(\"Vehicle Class\")\n",
    "plt.ylabel(\"Cars\")\n",
    "plt.bar_label(figure3.containers[0])\n",
    "plt.show()"
   ]
  },
  {
   "cell_type": "code",
   "execution_count": null,
   "metadata": {
    "id": "9xcoNLDMKcK2"
   },
   "outputs": [],
   "source": []
  },
  {
   "cell_type": "markdown",
   "metadata": {
    "id": "zi-_0dJhKoBz"
   },
   "source": [
    "Engine Sizes of cars"
   ]
  },
  {
   "cell_type": "code",
   "execution_count": 22,
   "metadata": {
    "colab": {
     "base_uri": "https://localhost:8080/",
     "height": 380
    },
    "id": "tiMoOypdKcNs",
    "outputId": "30b03f77-54eb-46c6-a8a1-ac8463c4c2dd"
   },
   "outputs": [
    {
     "name": "stdout",
     "output_type": "stream",
     "text": [
      "We have total 51 Types of Engine Size\n"
     ]
    },
    {
     "data": {
      "text/html": [
       "<div>\n",
       "<style scoped>\n",
       "    .dataframe tbody tr th:only-of-type {\n",
       "        vertical-align: middle;\n",
       "    }\n",
       "\n",
       "    .dataframe tbody tr th {\n",
       "        vertical-align: top;\n",
       "    }\n",
       "\n",
       "    .dataframe thead th {\n",
       "        text-align: right;\n",
       "    }\n",
       "</style>\n",
       "<table border=\"1\" class=\"dataframe\">\n",
       "  <thead>\n",
       "    <tr style=\"text-align: right;\">\n",
       "      <th></th>\n",
       "      <th>engine_size</th>\n",
       "      <th>Count</th>\n",
       "    </tr>\n",
       "  </thead>\n",
       "  <tbody>\n",
       "    <tr>\n",
       "      <th>0</th>\n",
       "      <td>2.0</td>\n",
       "      <td>1260</td>\n",
       "    </tr>\n",
       "    <tr>\n",
       "      <th>1</th>\n",
       "      <td>3.0</td>\n",
       "      <td>687</td>\n",
       "    </tr>\n",
       "    <tr>\n",
       "      <th>2</th>\n",
       "      <td>3.6</td>\n",
       "      <td>433</td>\n",
       "    </tr>\n",
       "    <tr>\n",
       "      <th>3</th>\n",
       "      <td>3.5</td>\n",
       "      <td>431</td>\n",
       "    </tr>\n",
       "    <tr>\n",
       "      <th>4</th>\n",
       "      <td>2.5</td>\n",
       "      <td>353</td>\n",
       "    </tr>\n",
       "    <tr>\n",
       "      <th>5</th>\n",
       "      <td>2.4</td>\n",
       "      <td>287</td>\n",
       "    </tr>\n",
       "    <tr>\n",
       "      <th>6</th>\n",
       "      <td>1.6</td>\n",
       "      <td>272</td>\n",
       "    </tr>\n",
       "    <tr>\n",
       "      <th>7</th>\n",
       "      <td>5.3</td>\n",
       "      <td>240</td>\n",
       "    </tr>\n",
       "    <tr>\n",
       "      <th>8</th>\n",
       "      <td>1.8</td>\n",
       "      <td>187</td>\n",
       "    </tr>\n",
       "    <tr>\n",
       "      <th>9</th>\n",
       "      <td>5.0</td>\n",
       "      <td>178</td>\n",
       "    </tr>\n",
       "  </tbody>\n",
       "</table>\n",
       "</div>"
      ],
      "text/plain": [
       "   engine_size  Count\n",
       "0          2.0   1260\n",
       "1          3.0    687\n",
       "2          3.6    433\n",
       "3          3.5    431\n",
       "4          2.5    353\n",
       "5          2.4    287\n",
       "6          1.6    272\n",
       "7          5.3    240\n",
       "8          1.8    187\n",
       "9          5.0    178"
      ]
     },
     "execution_count": 22,
     "metadata": {},
     "output_type": "execute_result"
    }
   ],
   "source": [
    "print(\"We have total\",len(df['engine_size'].unique()),\"Types of Engine Size\")\n",
    "df_engine_size = df['engine_size'].value_counts().reset_index().rename(columns={'index':'engine_size','engine_size':'Count'})\n",
    "df_engine_size.head(10)"
   ]
  },
  {
   "cell_type": "code",
   "execution_count": 23,
   "metadata": {
    "colab": {
     "base_uri": "https://localhost:8080/",
     "height": 412
    },
    "id": "DIcXlZpcKcQY",
    "outputId": "f57f17d8-7847-44b9-f8e6-189fbc5f6e14"
   },
   "outputs": [
    {
     "data": {
      "image/png": "[encoded data removed]",
      "text/plain": [
       "<Figure size 1440x432 with 1 Axes>"
      ]
     },
     "metadata": {
      "needs_background": "light"
     },
     "output_type": "display_data"
    }
   ],
   "source": [
    "plt.figure(figsize=(20,6))\n",
    "figure4 = sns.barplot(data = df_engine_size, x = \"engine_size\",  y= \"Count\")\n",
    "plt.xticks(rotation = 90)\n",
    "plt.title(\"All Engine Sizes\")\n",
    "plt.xlabel(\"Engine Size\")\n",
    "plt.ylabel(\"Cars\")\n",
    "plt.bar_label(figure4.containers[0])\n",
    "plt.show()\n"
   ]
  },
  {
   "cell_type": "code",
   "execution_count": 24,
   "metadata": {
    "id": "O4JthHG1KcS5"
   },
   "outputs": [],
   "source": [
    "# engine size 2 has the highest count."
   ]
  },
  {
   "cell_type": "markdown",
   "metadata": {
    "id": "Zzc20aLMLesB"
   },
   "source": [
    "Cylinders"
   ]
  },
  {
   "cell_type": "code",
   "execution_count": 25,
   "metadata": {
    "colab": {
     "base_uri": "https://localhost:8080/",
     "height": 317
    },
    "id": "saUnomiRKcWA",
    "outputId": "d17f5be9-3d58-404c-bc7c-74e595dc2f71"
   },
   "outputs": [
    {
     "name": "stdout",
     "output_type": "stream",
     "text": [
      "We have total 8 Types of Cylinders\n"
     ]
    },
    {
     "data": {
      "text/html": [
       "<div>\n",
       "<style scoped>\n",
       "    .dataframe tbody tr th:only-of-type {\n",
       "        vertical-align: middle;\n",
       "    }\n",
       "\n",
       "    .dataframe tbody tr th {\n",
       "        vertical-align: top;\n",
       "    }\n",
       "\n",
       "    .dataframe thead th {\n",
       "        text-align: right;\n",
       "    }\n",
       "</style>\n",
       "<table border=\"1\" class=\"dataframe\">\n",
       "  <thead>\n",
       "    <tr style=\"text-align: right;\">\n",
       "      <th></th>\n",
       "      <th>cylinders</th>\n",
       "      <th>Count</th>\n",
       "    </tr>\n",
       "  </thead>\n",
       "  <tbody>\n",
       "    <tr>\n",
       "      <th>0</th>\n",
       "      <td>4</td>\n",
       "      <td>2741</td>\n",
       "    </tr>\n",
       "    <tr>\n",
       "      <th>1</th>\n",
       "      <td>6</td>\n",
       "      <td>2040</td>\n",
       "    </tr>\n",
       "    <tr>\n",
       "      <th>2</th>\n",
       "      <td>8</td>\n",
       "      <td>1201</td>\n",
       "    </tr>\n",
       "    <tr>\n",
       "      <th>3</th>\n",
       "      <td>12</td>\n",
       "      <td>135</td>\n",
       "    </tr>\n",
       "    <tr>\n",
       "      <th>4</th>\n",
       "      <td>3</td>\n",
       "      <td>88</td>\n",
       "    </tr>\n",
       "    <tr>\n",
       "      <th>5</th>\n",
       "      <td>10</td>\n",
       "      <td>40</td>\n",
       "    </tr>\n",
       "    <tr>\n",
       "      <th>6</th>\n",
       "      <td>5</td>\n",
       "      <td>26</td>\n",
       "    </tr>\n",
       "    <tr>\n",
       "      <th>7</th>\n",
       "      <td>16</td>\n",
       "      <td>2</td>\n",
       "    </tr>\n",
       "  </tbody>\n",
       "</table>\n",
       "</div>"
      ],
      "text/plain": [
       "   cylinders  Count\n",
       "0          4   2741\n",
       "1          6   2040\n",
       "2          8   1201\n",
       "3         12    135\n",
       "4          3     88\n",
       "5         10     40\n",
       "6          5     26\n",
       "7         16      2"
      ]
     },
     "execution_count": 25,
     "metadata": {},
     "output_type": "execute_result"
    }
   ],
   "source": [
    "print(\"We have total\",len(df['cylinders'].unique()),\"Types of Cylinders\")\n",
    "df_cylinders = df['cylinders'].value_counts().reset_index().rename(columns={'index':'cylinders','cylinders':'Count'})\n",
    "df_cylinders"
   ]
  },
  {
   "cell_type": "code",
   "execution_count": 26,
   "metadata": {
    "colab": {
     "base_uri": "https://localhost:8080/",
     "height": 409
    },
    "id": "66enczj3KcYs",
    "outputId": "fd1d637c-42eb-418a-aa2a-b4d511dffa93"
   },
   "outputs": [
    {
     "data": {
      "image/png": "[encoded data removed]",
      "text/plain": [
       "<Figure size 1440x432 with 1 Axes>"
      ]
     },
     "metadata": {
      "needs_background": "light"
     },
     "output_type": "display_data"
    }
   ],
   "source": [
    "plt.figure(figsize=(20,6))\n",
    "figure5 = sns.barplot(data = df_cylinders, x = \"cylinders\",  y= \"Count\")\n",
    "plt.xticks(rotation = 90)\n",
    "plt.title(\"All Cylinders\")\n",
    "plt.xlabel(\"Cylinders\")\n",
    "plt.ylabel(\"Cars\")\n",
    "plt.bar_label(figure5.containers[0])\n",
    "plt.show()"
   ]
  },
  {
   "cell_type": "code",
   "execution_count": 27,
   "metadata": {
    "id": "UT0hBXA8Kca6"
   },
   "outputs": [],
   "source": [
    "# cylinders size 4 has the highest count."
   ]
  },
  {
   "cell_type": "markdown",
   "metadata": {
    "id": "6Tdxkh4CLzj3"
   },
   "source": [
    "Transmission of Cars"
   ]
  },
  {
   "cell_type": "code",
   "execution_count": 28,
   "metadata": {
    "colab": {
     "base_uri": "https://localhost:8080/",
     "height": 223
    },
    "id": "Ci8G6xJYKcdF",
    "outputId": "2a1c372c-390e-450c-cea4-0398306e34d1"
   },
   "outputs": [
    {
     "name": "stdout",
     "output_type": "stream",
     "text": [
      "We have total 5 Types of transmission\n"
     ]
    },
    {
     "data": {
      "text/html": [
       "<div>\n",
       "<style scoped>\n",
       "    .dataframe tbody tr th:only-of-type {\n",
       "        vertical-align: middle;\n",
       "    }\n",
       "\n",
       "    .dataframe tbody tr th {\n",
       "        vertical-align: top;\n",
       "    }\n",
       "\n",
       "    .dataframe thead th {\n",
       "        text-align: right;\n",
       "    }\n",
       "</style>\n",
       "<table border=\"1\" class=\"dataframe\">\n",
       "  <thead>\n",
       "    <tr style=\"text-align: right;\">\n",
       "      <th></th>\n",
       "      <th>transmission</th>\n",
       "      <th>Count</th>\n",
       "    </tr>\n",
       "  </thead>\n",
       "  <tbody>\n",
       "    <tr>\n",
       "      <th>0</th>\n",
       "      <td>AS</td>\n",
       "      <td>2720</td>\n",
       "    </tr>\n",
       "    <tr>\n",
       "      <th>1</th>\n",
       "      <td>A</td>\n",
       "      <td>1536</td>\n",
       "    </tr>\n",
       "    <tr>\n",
       "      <th>2</th>\n",
       "      <td>M</td>\n",
       "      <td>1019</td>\n",
       "    </tr>\n",
       "    <tr>\n",
       "      <th>3</th>\n",
       "      <td>AM</td>\n",
       "      <td>540</td>\n",
       "    </tr>\n",
       "    <tr>\n",
       "      <th>4</th>\n",
       "      <td>AV</td>\n",
       "      <td>458</td>\n",
       "    </tr>\n",
       "  </tbody>\n",
       "</table>\n",
       "</div>"
      ],
      "text/plain": [
       "  transmission  Count\n",
       "0           AS   2720\n",
       "1            A   1536\n",
       "2            M   1019\n",
       "3           AM    540\n",
       "4           AV    458"
      ]
     },
     "execution_count": 28,
     "metadata": {},
     "output_type": "execute_result"
    }
   ],
   "source": [
    "print(\"We have total\",len(df['transmission'].unique()),\"Types of transmission\")\n",
    "df_transmission = df['transmission'].value_counts().reset_index().rename(columns={'index':'transmission','transmission':'Count'})\n",
    "df_transmission"
   ]
  },
  {
   "cell_type": "code",
   "execution_count": 29,
   "metadata": {
    "colab": {
     "base_uri": "https://localhost:8080/",
     "height": 352
    },
    "id": "--hL5n0EJtZl",
    "outputId": "5ba07253-5300-405c-bb47-5bbb924e4367"
   },
   "outputs": [
    {
     "data": {
      "image/png": "[encoded data removed]",
      "text/plain": [
       "<Figure size 1440x360 with 1 Axes>"
      ]
     },
     "metadata": {
      "needs_background": "light"
     },
     "output_type": "display_data"
    }
   ],
   "source": [
    "plt.figure(figsize=(20,5))\n",
    "figure6 = sns.barplot(data = df_transmission, x = \"transmission\",  y= \"Count\")\n",
    "plt.title(\"All Transmissions\")\n",
    "plt.xlabel(\"Transmissions\")\n",
    "plt.ylabel(\"Cars\")\n",
    "plt.bar_label(figure6.containers[0])\n",
    "plt.show()"
   ]
  },
  {
   "cell_type": "code",
   "execution_count": null,
   "metadata": {
    "id": "ePOBore5Jtb4"
   },
   "outputs": [],
   "source": []
  },
  {
   "cell_type": "markdown",
   "metadata": {
    "id": "4Wgb77CJNKvG"
   },
   "source": [
    "Fuel Type of Cars"
   ]
  },
  {
   "cell_type": "code",
   "execution_count": null,
   "metadata": {
    "id": "i-OQkf-NTBR4"
   },
   "outputs": [],
   "source": []
  },
  {
   "cell_type": "markdown",
   "metadata": {
    "id": "uj-FQpxOTCMq"
   },
   "source": [
    "fuel_type have 5 unique fuel they are\n",
    "\n",
    "N = natural gas\n",
    "\n",
    "E = ethanol\n",
    "\n",
    "D = diesel\n",
    "\n",
    "X = gasoline\n",
    "\n",
    "Z = premium gasoline\n"
   ]
  },
  {
   "cell_type": "code",
   "execution_count": 30,
   "metadata": {
    "id": "35compZvdV3w"
   },
   "outputs": [],
   "source": [
    "df[\"fuel_type\"] = np.where(df[\"fuel_type\"]==\"Z\", \"Premium Gasoline\", df[\"fuel_type\"])\n",
    "df[\"fuel_type\"] = np.where(df[\"fuel_type\"]==\"X\", \"Regular Gasoline\", df[\"fuel_type\"])\n",
    "df[\"fuel_type\"] = np.where(df[\"fuel_type\"]==\"D\", \"Diesel\", df[\"fuel_type\"])\n",
    "df[\"fuel_type\"] = np.where(df[\"fuel_type\"]==\"E\", \"Ethanol\", df[\"fuel_type\"])\n",
    "df[\"fuel_type\"] = np.where(df[\"fuel_type\"]==\"N\", \"Natural Gas\", df[\"fuel_type\"])"
   ]
  },
  {
   "cell_type": "code",
   "execution_count": 31,
   "metadata": {
    "colab": {
     "base_uri": "https://localhost:8080/",
     "height": 223
    },
    "id": "C4l8VKiPJtfM",
    "outputId": "3f340b92-7521-4931-b0a2-00561be9a017"
   },
   "outputs": [
    {
     "name": "stdout",
     "output_type": "stream",
     "text": [
      "We have total 5 Types of fuel_type\n"
     ]
    },
    {
     "data": {
      "text/html": [
       "<div>\n",
       "<style scoped>\n",
       "    .dataframe tbody tr th:only-of-type {\n",
       "        vertical-align: middle;\n",
       "    }\n",
       "\n",
       "    .dataframe tbody tr th {\n",
       "        vertical-align: top;\n",
       "    }\n",
       "\n",
       "    .dataframe thead th {\n",
       "        text-align: right;\n",
       "    }\n",
       "</style>\n",
       "<table border=\"1\" class=\"dataframe\">\n",
       "  <thead>\n",
       "    <tr style=\"text-align: right;\">\n",
       "      <th></th>\n",
       "      <th>fuel_type</th>\n",
       "      <th>Count</th>\n",
       "    </tr>\n",
       "  </thead>\n",
       "  <tbody>\n",
       "    <tr>\n",
       "      <th>0</th>\n",
       "      <td>Regular Gasoline</td>\n",
       "      <td>3030</td>\n",
       "    </tr>\n",
       "    <tr>\n",
       "      <th>1</th>\n",
       "      <td>Premium Gasoline</td>\n",
       "      <td>2765</td>\n",
       "    </tr>\n",
       "    <tr>\n",
       "      <th>2</th>\n",
       "      <td>Ethanol</td>\n",
       "      <td>330</td>\n",
       "    </tr>\n",
       "    <tr>\n",
       "      <th>3</th>\n",
       "      <td>Diesel</td>\n",
       "      <td>147</td>\n",
       "    </tr>\n",
       "    <tr>\n",
       "      <th>4</th>\n",
       "      <td>Natural Gas</td>\n",
       "      <td>1</td>\n",
       "    </tr>\n",
       "  </tbody>\n",
       "</table>\n",
       "</div>"
      ],
      "text/plain": [
       "          fuel_type  Count\n",
       "0  Regular Gasoline   3030\n",
       "1  Premium Gasoline   2765\n",
       "2           Ethanol    330\n",
       "3            Diesel    147\n",
       "4       Natural Gas      1"
      ]
     },
     "execution_count": 31,
     "metadata": {},
     "output_type": "execute_result"
    }
   ],
   "source": [
    "print(\"We have total\",len(df['fuel_type'].unique()),\"Types of fuel_type\")\n",
    "df_fuel_type = df['fuel_type'].value_counts().reset_index().rename(columns={'index':'fuel_type','fuel_type':'Count'})\n",
    "df_fuel_type"
   ]
  },
  {
   "cell_type": "code",
   "execution_count": 32,
   "metadata": {
    "colab": {
     "base_uri": "https://localhost:8080/",
     "height": 352
    },
    "id": "7JFZ3IGENvuO",
    "outputId": "6c0737a9-a11c-446b-f454-9247f65681fd"
   },
   "outputs": [
    {
     "data": {
      "image/png": "[encoded data removed]",
      "text/plain": [
       "<Figure size 1440x360 with 1 Axes>"
      ]
     },
     "metadata": {
      "needs_background": "light"
     },
     "output_type": "display_data"
    }
   ],
   "source": [
    "plt.figure(figsize=(20,5))\n",
    "figure7 = sns.barplot(data = df_fuel_type, x = \"fuel_type\",  y= \"Count\")\n",
    "plt.title(\"All Fuel Types\")\n",
    "plt.xlabel(\"Fuel Types\")\n",
    "plt.ylabel(\"Cars\")\n",
    "plt.bar_label(figure7.containers[0])\n",
    "plt.show()"
   ]
  },
  {
   "cell_type": "markdown",
   "metadata": {
    "id": "nnTywbf7REU3"
   },
   "source": [
    "Variation in CO2 emissions with different features.\n",
    "\n",
    "CO2 Emission with Brand"
   ]
  },
  {
   "cell_type": "code",
   "execution_count": 33,
   "metadata": {
    "id": "T9kbcY5RJqtW"
   },
   "outputs": [],
   "source": [
    "df_co2_make = df.groupby(['make'])['co2_emissions'].mean().sort_values().reset_index()"
   ]
  },
  {
   "cell_type": "code",
   "execution_count": 34,
   "metadata": {
    "colab": {
     "base_uri": "https://localhost:8080/",
     "height": 391
    },
    "id": "zRQ6GFBYJqvi",
    "outputId": "e056e7da-b0da-4b6c-dfb7-d7f6bdebc5a0"
   },
   "outputs": [
    {
     "data": {
      "image/png": "[encoded data removed]",
      "text/plain": [
       "<Figure size 1440x360 with 1 Axes>"
      ]
     },
     "metadata": {
      "needs_background": "light"
     },
     "output_type": "display_data"
    }
   ],
   "source": [
    "plt.figure(figsize=(20,5))\n",
    "figure8 = sns.barplot(data = df_co2_make, x = \"make\",  y= \"co2_emissions\")\n",
    "plt.xticks(rotation = 90)\n",
    "plt.title(\"CO2 Emissions variation with Brand\")\n",
    "plt.xlabel(\"Brands\")\n",
    "plt.ylabel(\"CO2 Emissions\")\n",
    "plt.bar_label(figure8.containers[0], fontsize=7, fmt='%.1f')\n",
    "plt.show()"
   ]
  },
  {
   "cell_type": "code",
   "execution_count": 35,
   "metadata": {
    "colab": {
     "base_uri": "https://localhost:8080/",
     "height": 414
    },
    "id": "j9SD1yYfJqz1",
    "outputId": "7fa463fc-3331-4951-f2b1-874150e1c539"
   },
   "outputs": [
    {
     "data": {
      "image/png": "[encoded data removed]",
      "text/plain": [
       "<Figure size 1440x504 with 1 Axes>"
      ]
     },
     "metadata": {
      "needs_background": "light"
     },
     "output_type": "display_data"
    }
   ],
   "source": [
    "plt.figure(figsize=(20,7))\n",
    "order = df.groupby(\"make\")[\"co2_emissions\"].median().sort_values(ascending=True).index\n",
    "sns.boxplot(x=\"make\", y=\"co2_emissions\", data=df, order=order, width=0.5)\n",
    "plt.title(\"Distribution of CO2 Emissions in relation to Make\", fontsize=15)\n",
    "plt.xticks(rotation=90, horizontalalignment='center')\n",
    "plt.xlabel(\"Make\", fontsize=12)\n",
    "plt.ylabel(\"CO2 Emissions\", fontsize=12)\n",
    "plt.axhline(df[\"co2_emissions\"].median(),color='r',linestyle='dashed',linewidth=1)\n",
    "plt.tight_layout()\n",
    "plt.show()"
   ]
  },
  {
   "cell_type": "markdown",
   "metadata": {
    "id": "ODCkjQ84fH9k"
   },
   "source": [
    "1. From both the bar graph and the box plot it can be inferred that average CO2 emissions of cars belonging to the Luxury is the highest and cars of General has the lowest emissions.\n",
    "2. The red line signify the sample mean of CO2 emissions.\n",
    "3. Almost 50% of the brand has their median CO2 emissions less than the sample median of CO2 emissions by all the cars."
   ]
  },
  {
   "cell_type": "markdown",
   "metadata": {
    "id": "YOPtAHJXSB4n"
   },
   "source": [
    "CO2 Emissions variation with Vehicle Class"
   ]
  },
  {
   "cell_type": "code",
   "execution_count": 36,
   "metadata": {
    "id": "aippgfbiJq4W"
   },
   "outputs": [],
   "source": [
    "df_co2_vehicle_class = df.groupby(['vehicle_class'])['co2_emissions'].mean().sort_values().reset_index()"
   ]
  },
  {
   "cell_type": "code",
   "execution_count": 37,
   "metadata": {
    "colab": {
     "base_uri": "https://localhost:8080/",
     "height": 353
    },
    "id": "7VOs5W59Jq7A",
    "outputId": "fc4e7ae7-f2d8-4684-e45a-b04ca05affab"
   },
   "outputs": [
    {
     "data": {
      "image/png": "[encoded data removed]",
      "text/plain": [
       "<Figure size 1656x360 with 1 Axes>"
      ]
     },
     "metadata": {
      "needs_background": "light"
     },
     "output_type": "display_data"
    }
   ],
   "source": [
    "\n",
    "\n",
    "plt.figure(figsize=(23,5))\n",
    "figure9 = sns.barplot(data = df_co2_vehicle_class, x = \"vehicle_class\",  y= \"co2_emissions\")\n",
    "plt.xticks(rotation = 90)\n",
    "plt.title(\"CO2 Emissions variation with Vehicle Class\")\n",
    "plt.xlabel(\"Vehicle Class\")\n",
    "plt.ylabel(\"CO2 Emissions\")\n",
    "plt.bar_label(figure9.containers[0], fontsize=7)\n",
    "plt.show()"
   ]
  },
  {
   "cell_type": "code",
   "execution_count": 38,
   "metadata": {
    "id": "lBbfSHwya1et"
   },
   "outputs": [],
   "source": [
    "# vehicle class of Truck has high variation in co2 emissions"
   ]
  },
  {
   "cell_type": "code",
   "execution_count": 39,
   "metadata": {
    "colab": {
     "base_uri": "https://localhost:8080/",
     "height": 414
    },
    "id": "yAFeuzPvO_8l",
    "outputId": "c876d158-1ed4-4d3f-91b3-5bb91c641433"
   },
   "outputs": [
    {
     "data": {
      "image/png": "[encoded data removed]",
      "text/plain": [
       "<Figure size 1440x504 with 1 Axes>"
      ]
     },
     "metadata": {
      "needs_background": "light"
     },
     "output_type": "display_data"
    }
   ],
   "source": [
    "plt.figure(figsize=(20,7))\n",
    "order = df.groupby(\"vehicle_class\")[\"co2_emissions\"].median().sort_values(ascending=True).index\n",
    "sns.boxplot(x=\"vehicle_class\", y=\"co2_emissions\", data=df, order=order, width=0.5)\n",
    "plt.title(\"Distribution of CO2 Emissions in relation to Make\", fontsize=15)\n",
    "plt.xticks(rotation=90, horizontalalignment='center')\n",
    "plt.xlabel(\"Vehicle Class\", fontsize=12)\n",
    "plt.ylabel(\"CO2 Emissions\", fontsize=12)\n",
    "plt.axhline(df[\"co2_emissions\"].median(),color='r',linestyle='dashed',linewidth=1)\n",
    "plt.tight_layout()\n",
    "plt.show()"
   ]
  },
  {
   "cell_type": "markdown",
   "metadata": {
    "id": "U0XngfQogRQ5"
   },
   "source": [
    "1. The vehicle of class VAN-Passenger followed by Truck has the highest CO2 emissions among all. And Hatchback has the lowest CO2 emissions.\n",
    "2. There are 8 types of vehicle class out of 16 which has a median CO2 emissions less than sample median of CO2 emissions and the other 8 has a higher median."
   ]
  },
  {
   "cell_type": "markdown",
   "metadata": {
    "id": "n4JeWbp9S0tZ"
   },
   "source": [
    "CO2 Emissions variation with Transmission"
   ]
  },
  {
   "cell_type": "code",
   "execution_count": 40,
   "metadata": {
    "id": "Yb2t_DmgCgWD"
   },
   "outputs": [],
   "source": [
    "df_co2_transmission = df.groupby(['transmission'])['co2_emissions'].mean().sort_values().reset_index()"
   ]
  },
  {
   "cell_type": "code",
   "execution_count": 41,
   "metadata": {
    "colab": {
     "base_uri": "https://localhost:8080/",
     "height": 317
    },
    "id": "0mqr_uCZO__T",
    "outputId": "eb61371f-00e2-4034-f440-529a4edb3650"
   },
   "outputs": [
    {
     "data": {
      "image/png": "[encoded data removed]",
      "text/plain": [
       "<Figure size 1656x360 with 1 Axes>"
      ]
     },
     "metadata": {
      "needs_background": "light"
     },
     "output_type": "display_data"
    }
   ],
   "source": [
    "\n",
    "plt.figure(figsize=(23,5))\n",
    "figure10 = sns.barplot(data = df_co2_transmission, x = \"transmission\",  y= \"co2_emissions\")\n",
    "plt.xticks(rotation = 90)\n",
    "plt.title(\"CO2 Emissions variation with Transmission\")\n",
    "plt.xlabel(\"Transmission\")\n",
    "plt.ylabel(\"CO2 Emissions\")\n",
    "plt.bar_label(figure10.containers[0], fontsize=7)\n",
    "plt.show()"
   ]
  },
  {
   "cell_type": "code",
   "execution_count": 42,
   "metadata": {
    "colab": {
     "base_uri": "https://localhost:8080/",
     "height": 414
    },
    "id": "m5gS4xV4PAF-",
    "outputId": "634f6d19-f5a4-4ffb-ed63-3e98493323de"
   },
   "outputs": [
    {
     "data": {
      "image/png": "[encoded data removed]",
      "text/plain": [
       "<Figure size 1440x504 with 1 Axes>"
      ]
     },
     "metadata": {
      "needs_background": "light"
     },
     "output_type": "display_data"
    }
   ],
   "source": [
    "plt.figure(figsize=(20,7))\n",
    "order = df.groupby(\"transmission\")[\"co2_emissions\"].median().sort_values(ascending=True).index\n",
    "sns.boxplot(x=\"transmission\", y=\"co2_emissions\", data=df, order=order, width=0.5)\n",
    "plt.title(\"Distribution of CO2 Emissions in relation to Make\", fontsize=15)\n",
    "plt.xticks(rotation=90, horizontalalignment='center')\n",
    "plt.xlabel(\"Transmission\", fontsize=12)\n",
    "plt.ylabel(\"CO2 Emissions\", fontsize=12)\n",
    "plt.axhline(df[\"co2_emissions\"].median(),color='r',linestyle='dashed',linewidth=1)\n",
    "plt.tight_layout()\n",
    "plt.show()"
   ]
  },
  {
   "cell_type": "markdown",
   "metadata": {
    "id": "ta0nUzcIhKOW"
   },
   "source": [
    "1) Vehicles with Automatic transmission exhibit highest CO2 emissions and vehicle with Continuously Variable Transmission shows the lowest CO2 emissions.\n",
    "\n",
    "2) Median CO2 emissions of Automated Manual(AM) and Automatic(A) with Select Shift vehicles is almost similar to that of sample median CO2 emissions.\n"
   ]
  },
  {
   "cell_type": "markdown",
   "metadata": {
    "id": "3yhrDjFmTlpD"
   },
   "source": [
    "CO2 Emissions variation with Fuel Type"
   ]
  },
  {
   "cell_type": "code",
   "execution_count": 43,
   "metadata": {
    "id": "RM6DgMsRPALL"
   },
   "outputs": [],
   "source": [
    "df_co2_fuel_type = df.groupby(['fuel_type'])['co2_emissions'].mean().sort_values().reset_index()"
   ]
  },
  {
   "cell_type": "code",
   "execution_count": 44,
   "metadata": {
    "colab": {
     "base_uri": "https://localhost:8080/",
     "height": 388
    },
    "id": "psUZrlq1Tt1t",
    "outputId": "5cca93c8-3749-4aaf-a812-6abde896e998"
   },
   "outputs": [
    {
     "data": {
      "image/png": "[encoded data removed]",
      "text/plain": [
       "<Figure size 1656x360 with 1 Axes>"
      ]
     },
     "metadata": {
      "needs_background": "light"
     },
     "output_type": "display_data"
    }
   ],
   "source": [
    "plt.figure(figsize=(23,5))\n",
    "figure11 = sns.barplot(data = df_co2_fuel_type, x = \"fuel_type\",  y= \"co2_emissions\")\n",
    "plt.xticks(rotation = 90)\n",
    "plt.title(\"CO2 Emissions variation with Fuel Type\")\n",
    "plt.xlabel(\"Fuel Type\")\n",
    "plt.ylabel(\"CO2 Emissions\")\n",
    "plt.bar_label(figure11.containers[0], fontsize=7)\n",
    "plt.show()"
   ]
  },
  {
   "cell_type": "code",
   "execution_count": 45,
   "metadata": {
    "colab": {
     "base_uri": "https://localhost:8080/",
     "height": 414
    },
    "id": "HvzBDhGfTt46",
    "outputId": "e690a4db-668b-4fc0-b504-2cbd70aa0410"
   },
   "outputs": [
    {
     "data": {
      "image/png": "[encoded data removed]",
      "text/plain": [
       "<Figure size 1440x504 with 1 Axes>"
      ]
     },
     "metadata": {
      "needs_background": "light"
     },
     "output_type": "display_data"
    }
   ],
   "source": [
    "plt.figure(figsize=(20,7))\n",
    "order = df.groupby(\"fuel_type\")[\"co2_emissions\"].median().sort_values(ascending=True).index\n",
    "sns.boxplot(x=\"fuel_type\", y=\"co2_emissions\", data=df, order=order, width=0.5)\n",
    "plt.title(\"Distribution of CO2 Emissions in relation to Make\", fontsize=15)\n",
    "plt.xticks(rotation=90, horizontalalignment='center')\n",
    "plt.xlabel(\"Fuel Type\", fontsize=12)\n",
    "plt.ylabel(\"CO2 Emissions\", fontsize=12)\n",
    "plt.axhline(df[\"co2_emissions\"].median(),color='r',linestyle='dashed',linewidth=1)\n",
    "plt.tight_layout()\n",
    "plt.show()"
   ]
  },
  {
   "cell_type": "code",
   "execution_count": null,
   "metadata": {
    "id": "JyYOPZKihqjm"
   },
   "outputs": [],
   "source": []
  },
  {
   "cell_type": "markdown",
   "metadata": {
    "id": "55yCP_14hrKz"
   },
   "source": [
    "1) Cars running on Ethanol has the highest CO2 emissions with almost all the values hisger than the sample median CO2 emissions.\n",
    "\n",
    "2)Natural Gas has the lowest CO2 emissions, but there is only one vehicle that use it as fuel. Other than that Regular Gasoline has the lowest CO2 emissions with almost 75% values less than sample median.\n",
    "\n",
    "3)The median CO2 emissions of fuel type Premiuim Gasoline and Diesel has almost similar median to that of the sample median."
   ]
  },
  {
   "cell_type": "markdown",
   "metadata": {
    "id": "YNaF-1YHUpkF"
   },
   "source": [
    "DATA CLEANING"
   ]
  },
  {
   "cell_type": "code",
   "execution_count": 46,
   "metadata": {
    "colab": {
     "base_uri": "https://localhost:8080/"
    },
    "id": "YHi_g73niOZW",
    "outputId": "38672244-98d5-497a-ca91-dc0ed1ee2dc3"
   },
   "outputs": [
    {
     "data": {
      "text/plain": [
       "engine_size                       0.810963\n",
       "cylinders                         1.106651\n",
       "fuel_consumption_city             0.841856\n",
       "fuel_consumption_hwy              1.110217\n",
       "fuel_consumption_comb(l/100km)    0.926410\n",
       "fuel_consumption_comb(mpg)        0.915277\n",
       "co2_emissions                     0.558865\n",
       "dtype: float64"
      ]
     },
     "execution_count": 46,
     "metadata": {},
     "output_type": "execute_result"
    }
   ],
   "source": [
    "df.skew()"
   ]
  },
  {
   "cell_type": "markdown",
   "metadata": {
    "id": "6K3nF67_iY6x"
   },
   "source": [
    "1. Cylinder feature has discrete values so it is the most positively skewes distribution.\n",
    "2. CO2 Emission in turn is the one which looks more similar to a normally distributed curve than the others."
   ]
  },
  {
   "cell_type": "code",
   "execution_count": 47,
   "metadata": {
    "colab": {
     "base_uri": "https://localhost:8080/",
     "height": 289
    },
    "id": "E_b7jvgNTt7o",
    "outputId": "6ab9ce41-56ea-4f9c-afec-4893f8a7841b"
   },
   "outputs": [
    {
     "data": {
      "text/html": [
       "<div>\n",
       "<style scoped>\n",
       "    .dataframe tbody tr th:only-of-type {\n",
       "        vertical-align: middle;\n",
       "    }\n",
       "\n",
       "    .dataframe tbody tr th {\n",
       "        vertical-align: top;\n",
       "    }\n",
       "\n",
       "    .dataframe thead th {\n",
       "        text-align: right;\n",
       "    }\n",
       "</style>\n",
       "<table border=\"1\" class=\"dataframe\">\n",
       "  <thead>\n",
       "    <tr style=\"text-align: right;\">\n",
       "      <th></th>\n",
       "      <th>engine_size</th>\n",
       "      <th>cylinders</th>\n",
       "      <th>fuel_consumption_city</th>\n",
       "      <th>fuel_consumption_hwy</th>\n",
       "      <th>fuel_consumption_comb(l/100km)</th>\n",
       "      <th>fuel_consumption_comb(mpg)</th>\n",
       "      <th>co2_emissions</th>\n",
       "    </tr>\n",
       "  </thead>\n",
       "  <tbody>\n",
       "    <tr>\n",
       "      <th>engine_size</th>\n",
       "      <td>1.000000</td>\n",
       "      <td>0.928796</td>\n",
       "      <td>0.834325</td>\n",
       "      <td>0.766700</td>\n",
       "      <td>0.820183</td>\n",
       "      <td>-0.764060</td>\n",
       "      <td>0.854999</td>\n",
       "    </tr>\n",
       "    <tr>\n",
       "      <th>cylinders</th>\n",
       "      <td>0.928796</td>\n",
       "      <td>1.000000</td>\n",
       "      <td>0.801180</td>\n",
       "      <td>0.717321</td>\n",
       "      <td>0.780932</td>\n",
       "      <td>-0.724347</td>\n",
       "      <td>0.834697</td>\n",
       "    </tr>\n",
       "    <tr>\n",
       "      <th>fuel_consumption_city</th>\n",
       "      <td>0.834325</td>\n",
       "      <td>0.801180</td>\n",
       "      <td>1.000000</td>\n",
       "      <td>0.950733</td>\n",
       "      <td>0.994040</td>\n",
       "      <td>-0.927901</td>\n",
       "      <td>0.918528</td>\n",
       "    </tr>\n",
       "    <tr>\n",
       "      <th>fuel_consumption_hwy</th>\n",
       "      <td>0.766700</td>\n",
       "      <td>0.717321</td>\n",
       "      <td>0.950733</td>\n",
       "      <td>1.000000</td>\n",
       "      <td>0.978578</td>\n",
       "      <td>-0.892238</td>\n",
       "      <td>0.883153</td>\n",
       "    </tr>\n",
       "    <tr>\n",
       "      <th>fuel_consumption_comb(l/100km)</th>\n",
       "      <td>0.820183</td>\n",
       "      <td>0.780932</td>\n",
       "      <td>0.994040</td>\n",
       "      <td>0.978578</td>\n",
       "      <td>1.000000</td>\n",
       "      <td>-0.926110</td>\n",
       "      <td>0.916611</td>\n",
       "    </tr>\n",
       "    <tr>\n",
       "      <th>fuel_consumption_comb(mpg)</th>\n",
       "      <td>-0.764060</td>\n",
       "      <td>-0.724347</td>\n",
       "      <td>-0.927901</td>\n",
       "      <td>-0.892238</td>\n",
       "      <td>-0.926110</td>\n",
       "      <td>1.000000</td>\n",
       "      <td>-0.906839</td>\n",
       "    </tr>\n",
       "    <tr>\n",
       "      <th>co2_emissions</th>\n",
       "      <td>0.854999</td>\n",
       "      <td>0.834697</td>\n",
       "      <td>0.918528</td>\n",
       "      <td>0.883153</td>\n",
       "      <td>0.916611</td>\n",
       "      <td>-0.906839</td>\n",
       "      <td>1.000000</td>\n",
       "    </tr>\n",
       "  </tbody>\n",
       "</table>\n",
       "</div>"
      ],
      "text/plain": [
       "                                engine_size  cylinders  fuel_consumption_city  \\\n",
       "engine_size                        1.000000   0.928796               0.834325   \n",
       "cylinders                          0.928796   1.000000               0.801180   \n",
       "fuel_consumption_city              0.834325   0.801180               1.000000   \n",
       "fuel_consumption_hwy               0.766700   0.717321               0.950733   \n",
       "fuel_consumption_comb(l/100km)     0.820183   0.780932               0.994040   \n",
       "fuel_consumption_comb(mpg)        -0.764060  -0.724347              -0.927901   \n",
       "co2_emissions                      0.854999   0.834697               0.918528   \n",
       "\n",
       "                                fuel_consumption_hwy  \\\n",
       "engine_size                                 0.766700   \n",
       "cylinders                                   0.717321   \n",
       "fuel_consumption_city                       0.950733   \n",
       "fuel_consumption_hwy                        1.000000   \n",
       "fuel_consumption_comb(l/100km)              0.978578   \n",
       "fuel_consumption_comb(mpg)                 -0.892238   \n",
       "co2_emissions                               0.883153   \n",
       "\n",
       "                                fuel_consumption_comb(l/100km)  \\\n",
       "engine_size                                           0.820183   \n",
       "cylinders                                             0.780932   \n",
       "fuel_consumption_city                                 0.994040   \n",
       "fuel_consumption_hwy                                  0.978578   \n",
       "fuel_consumption_comb(l/100km)                        1.000000   \n",
       "fuel_consumption_comb(mpg)                           -0.926110   \n",
       "co2_emissions                                         0.916611   \n",
       "\n",
       "                                fuel_consumption_comb(mpg)  co2_emissions  \n",
       "engine_size                                      -0.764060       0.854999  \n",
       "cylinders                                        -0.724347       0.834697  \n",
       "fuel_consumption_city                            -0.927901       0.918528  \n",
       "fuel_consumption_hwy                             -0.892238       0.883153  \n",
       "fuel_consumption_comb(l/100km)                   -0.926110       0.916611  \n",
       "fuel_consumption_comb(mpg)                        1.000000      -0.906839  \n",
       "co2_emissions                                    -0.906839       1.000000  "
      ]
     },
     "execution_count": 47,
     "metadata": {},
     "output_type": "execute_result"
    }
   ],
   "source": [
    "# checking the correlation\n",
    "df.corr().T"
   ]
  },
  {
   "cell_type": "code",
   "execution_count": 48,
   "metadata": {
    "colab": {
     "base_uri": "https://localhost:8080/"
    },
    "id": "2RM9YKC7Tt-l",
    "outputId": "4a0c4454-3ea8-4f71-c455-f0e19475f7fc"
   },
   "outputs": [
    {
     "data": {
      "text/plain": [
       "fuel_consumption_comb(mpg)       -0.906839\n",
       "cylinders                         0.834697\n",
       "engine_size                       0.854999\n",
       "fuel_consumption_hwy              0.883153\n",
       "fuel_consumption_comb(l/100km)    0.916611\n",
       "fuel_consumption_city             0.918528\n",
       "co2_emissions                     1.000000\n",
       "Name: co2_emissions, dtype: float64"
      ]
     },
     "execution_count": 48,
     "metadata": {},
     "output_type": "execute_result"
    }
   ],
   "source": [
    "# check the correlation\n",
    "df.corr()['co2_emissions'].sort_values()"
   ]
  },
  {
   "cell_type": "markdown",
   "metadata": {
    "id": "x0qeKWcBN0B5"
   },
   "source": [
    "1) fuel consumption comb is negatively correlated with co2 emissions.\n",
    "\n",
    "\n",
    "2) And others features are positively correlated with co2 emissions.\n",
    "\n",
    "3) fuel consumption comb(1/100km) is highly correlated with co2."
   ]
  },
  {
   "cell_type": "code",
   "execution_count": 49,
   "metadata": {
    "colab": {
     "base_uri": "https://localhost:8080/",
     "height": 662
    },
    "id": "QUBrr2txTuBZ",
    "outputId": "f3ce46b9-ca25-42b2-f118-c3f011b28c45"
   },
   "outputs": [
    {
     "data": {
      "image/png": "[encoded data removed]",
      "text/plain": [
       "<Figure size 1656x720 with 2 Axes>"
      ]
     },
     "metadata": {
      "needs_background": "light"
     },
     "output_type": "display_data"
    }
   ],
   "source": [
    "plt.figure(figsize = (23,10))\n",
    "sns.heatmap(df.corr(), annot = True)\n",
    "plt.show()"
   ]
  },
  {
   "cell_type": "code",
   "execution_count": 50,
   "metadata": {
    "colab": {
     "base_uri": "https://localhost:8080/"
    },
    "id": "8SB29ZdNajEE",
    "outputId": "652ea1b8-2996-4e60-a330-8ac986d6da48"
   },
   "outputs": [
    {
     "data": {
      "text/plain": [
       "make                              6273\n",
       "model                             6273\n",
       "vehicle_class                     6273\n",
       "engine_size                       6273\n",
       "cylinders                         6273\n",
       "transmission                      6273\n",
       "fuel_type                         6273\n",
       "fuel_consumption_city             6273\n",
       "fuel_consumption_hwy              6273\n",
       "fuel_consumption_comb(l/100km)    6273\n",
       "fuel_consumption_comb(mpg)        6273\n",
       "co2_emissions                     6273\n",
       "dtype: int64"
      ]
     },
     "execution_count": 50,
     "metadata": {},
     "output_type": "execute_result"
    }
   ],
   "source": [
    "df.count()"
   ]
  },
  {
   "cell_type": "markdown",
   "metadata": {
    "id": "bkQlbyHlbex_"
   },
   "source": [
    "With the help of the counts we can check that cols have equal numbers rows or not\n",
    "\n",
    "In this data the cols have equals numbers of rows"
   ]
  },
  {
   "cell_type": "code",
   "execution_count": 51,
   "metadata": {
    "colab": {
     "base_uri": "https://localhost:8080/",
     "height": 719
    },
    "id": "rYXZoyUAZ-Ka",
    "outputId": "faa8c277-8835-4cbb-d257-17fb49a88807"
   },
   "outputs": [
    {
     "data": {
      "image/png": "[encoded data removed]",
      "text/plain": [
       "<Figure size 1152x360 with 1 Axes>"
      ]
     },
     "metadata": {
      "needs_background": "light"
     },
     "output_type": "display_data"
    },
    {
     "data": {
      "image/png": "[encoded data removed]",
      "text/plain": [
       "<Figure size 1152x360 with 1 Axes>"
      ]
     },
     "metadata": {
      "needs_background": "light"
     },
     "output_type": "display_data"
    }
   ],
   "source": [
    "# checking the outliers in co2 emissions with the help of histogram and boxplot.\n",
    "plt.figure(figsize=(16,5))\n",
    "df[\"co2_emissions\"].plot(kind=\"hist\", bins=100, rwidth=0.9)\n",
    "plt.title(\"CO2 Emissions: value distribution\")\n",
    "plt.xlabel(\"CO2 Emissions\")\n",
    "plt.tight_layout()\n",
    "plt.show()\n",
    "\n",
    "plt.figure(figsize=(16,5))\n",
    "df[\"co2_emissions\"].plot(kind=\"box\", vert=False)\n",
    "plt.title(\"co2_emissions: Frequency distribution\\n\", fontsize=15)\n",
    "plt.xlabel(\"\\nCO2 Emissions\")\n",
    "plt.yticks([0], [''])\n",
    "plt.ylabel(\"CO2 Emissions\\n\", rotation=90)\n",
    "plt.tight_layout()\n",
    "plt.show()"
   ]
  },
  {
   "cell_type": "markdown",
   "metadata": {
    "id": "dyebWCLjjR3e"
   },
   "source": [
    "1. The minimum vale of the CO2 emission is around 96.\n",
    "2. The median CO2 emission is 246.\n",
    "3. The 25% of the samples have CO2 emission between 96 and 208.\n",
    "4. The 75% of the samples have CO2 emission between 96 and 288.\n",
    "5. There are no outliers in the lower half but there are outliers in the upper half.\n",
    "6. The maximum CO2 emissions observed is 522 which is an outliers\n",
    "7. The distribution of CO2 emissions is positively skewed"
   ]
  },
  {
   "cell_type": "code",
   "execution_count": 52,
   "metadata": {
    "colab": {
     "base_uri": "https://localhost:8080/"
    },
    "id": "7f9g5QtjTuEP",
    "outputId": "a3bf3b3a-421a-475e-910c-91ba37054803"
   },
   "outputs": [
    {
     "name": "stdout",
     "output_type": "stream",
     "text": [
      "engine_size                        1.7\n",
      "cylinders                          2.0\n",
      "fuel_consumption_city              4.6\n",
      "fuel_consumption_hwy               2.8\n",
      "fuel_consumption_comb(l/100km)     3.8\n",
      "fuel_consumption_comb(mpg)        10.0\n",
      "co2_emissions                     81.0\n",
      "dtype: float64\n"
     ]
    }
   ],
   "source": [
    "# outliers\n",
    "#Outliers numeric features\n",
    "\n",
    "df1=df.select_dtypes(include=np.number)\n",
    "#Identifying outliers using IQR\n",
    "\n",
    "Q1 = df1.quantile(0.25)\n",
    "Q3 = df1.quantile(0.75)\n",
    "IQR = Q3 - Q1\n",
    "print(IQR)"
   ]
  },
  {
   "cell_type": "code",
   "execution_count": 53,
   "metadata": {
    "colab": {
     "base_uri": "https://localhost:8080/"
    },
    "id": "-4ZwInAUZtjd",
    "outputId": "368ee1d7-6f18-400e-b17d-4b01f3c310ac"
   },
   "outputs": [
    {
     "name": "stdout",
     "output_type": "stream",
     "text": [
      "Total number of Outliers in column engine_size are 121\n",
      "Total number of Outliers in column cylinders are 177\n",
      "Total number of Outliers in column fuel_consumption_city are 116\n",
      "Total number of Outliers in column fuel_consumption_hwy are 150\n",
      "Total number of Outliers in column fuel_consumption_comb(l/100km) are 115\n",
      "Total number of Outliers in column fuel_consumption_comb(mpg) are 93\n",
      "Total number of Outliers in column co2_emissions are 74\n"
     ]
    }
   ],
   "source": [
    "outlier = pd.DataFrame((df1 < (Q1 - 1.5 * IQR)) | (df1 > (Q3 + 1.5 * IQR)))\n",
    "\n",
    "for i in outlier.columns:\n",
    "    print('Total number of Outliers in column {} are {}'.format(i, (len(outlier[outlier[i] == True][i]))))"
   ]
  },
  {
   "cell_type": "code",
   "execution_count": 54,
   "metadata": {
    "colab": {
     "base_uri": "https://localhost:8080/",
     "height": 1000
    },
    "id": "b-mkqvG8Ztm1",
    "outputId": "44855b1d-3518-4cd8-a1ba-dd5a9662d331"
   },
   "outputs": [
    {
     "data": {
      "image/png": "[encoded data removed]",
      "text/plain": [
       "<Figure size 2160x360 with 1 Axes>"
      ]
     },
     "metadata": {
      "needs_background": "light"
     },
     "output_type": "display_data"
    },
    {
     "data": {
      "image/png": "[encoded data removed]",
      "text/plain": [
       "<Figure size 2160x360 with 1 Axes>"
      ]
     },
     "metadata": {},
     "output_type": "display_data"
    },
    {
     "data": {
      "image/png": "[encoded data removed]",
      "text/plain": [
       "<Figure size 2160x360 with 1 Axes>"
      ]
     },
     "metadata": {},
     "output_type": "display_data"
    },
    {
     "data": {
      "image/png": "[encoded data removed]",
      "text/plain": [
       "<Figure size 2160x360 with 1 Axes>"
      ]
     },
     "metadata": {},
     "output_type": "display_data"
    },
    {
     "data": {
      "image/png": "[encoded data removed]",
      "text/plain": [
       "<Figure size 2160x360 with 1 Axes>"
      ]
     },
     "metadata": {},
     "output_type": "display_data"
    },
    {
     "data": {
      "image/png": "[encoded data removed]",
      "text/plain": [
       "<Figure size 2160x360 with 1 Axes>"
      ]
     },
     "metadata": {},
     "output_type": "display_data"
    },
    {
     "data": {
      "image/png": "[encoded data removed]",
      "text/plain": [
       "<Figure size 2160x360 with 1 Axes>"
      ]
     },
     "metadata": {},
     "output_type": "display_data"
    }
   ],
   "source": [
    "for column in enumerate(df1):\n",
    "    plt.figure(figsize=(30,5))\n",
    "    sns.set_theme(style=\"darkgrid\")\n",
    "    sns.boxplot(x=column[1], data=  df1)\n",
    "    plt.xlabel(column[1],fontsize=18)\n",
    "    plt.show()"
   ]
  },
  {
   "cell_type": "code",
   "execution_count": 55,
   "metadata": {
    "colab": {
     "base_uri": "https://localhost:8080/"
    },
    "id": "niZWP9jvZtqM",
    "outputId": "44fc1e42-8e71-4586-fe87-ff9b69e3ef3f"
   },
   "outputs": [
    {
     "name": "stdout",
     "output_type": "stream",
     "text": [
      "Test statistic: 0.5184555053710938\n",
      "P-Value: 0.0\n"
     ]
    }
   ],
   "source": [
    "#Checking the normality of numeric features\n",
    "from scipy.stats import shapiro\n",
    "stat, p_value = shapiro(df1)\n",
    "\n",
    "print('Test statistic:', stat)\n",
    "print('P-Value:', p_value)"
   ]
  },
  {
   "cell_type": "markdown",
   "metadata": {
    "id": "Wj66d7wqkvyX"
   },
   "source": [
    "Since the numeric features are not normal we are removing the outliers using IQR method"
   ]
  },
  {
   "cell_type": "code",
   "execution_count": 56,
   "metadata": {
    "colab": {
     "base_uri": "https://localhost:8080/",
     "height": 685
    },
    "id": "EEGGoof4egx1",
    "outputId": "f3240289-5abb-4ac1-b863-0ffe403fc5c3"
   },
   "outputs": [
    {
     "data": {
      "image/png": "[encoded data removed]",
      "text/plain": [
       "<Figure size 432x288 with 2 Axes>"
      ]
     },
     "metadata": {},
     "output_type": "display_data"
    }
   ],
   "source": [
    "df1 = df.select_dtypes(include=np.number)\n",
    "\n",
    "corr =  df1.corr()\n",
    "\n",
    "corr =df1.corr(method='pearson')\n",
    "sns.heatmap(corr, annot=True,cmap='tab20b')\n",
    "plt.show()"
   ]
  },
  {
   "cell_type": "code",
   "execution_count": 57,
   "metadata": {
    "id": "NRYoVydYlEg4"
   },
   "outputs": [],
   "source": [
    "# #encoding\n",
    "\n",
    "# # Assuming df is your DataFrame\n",
    "df_dummies = pd.get_dummies(data=df[[\"fuel_type\", \"transmission\", \"make\", \"vehicle_class\"]], drop_first=True)\n",
    "\n",
    "# # Assuming df is your original DataFrame\n",
    "df_num_features = df.select_dtypes(include=np.number)\n",
    "\n",
    "df = pd.concat([df_num_features, df_dummies], axis=1)"
   ]
  },
  {
   "cell_type": "code",
   "execution_count": 58,
   "metadata": {
    "colab": {
     "base_uri": "https://localhost:8080/"
    },
    "id": "Us4C35JgIIkQ",
    "outputId": "2dc51155-ca10-4180-aef2-7fdca10e07a2"
   },
   "outputs": [
    {
     "data": {
      "text/plain": [
       "['engine_size',\n",
       " 'cylinders',\n",
       " 'fuel_consumption_city',\n",
       " 'fuel_consumption_hwy',\n",
       " 'fuel_consumption_comb(l/100km)',\n",
       " 'fuel_consumption_comb(mpg)',\n",
       " 'co2_emissions']"
      ]
     },
     "execution_count": 58,
     "metadata": {},
     "output_type": "execute_result"
    }
   ],
   "source": [
    "imp=df.corr()\n",
    "imp_cols = imp[abs(imp['co2_emissions']) > 0.5].index.tolist()\n",
    "imp_cols\n"
   ]
  },
  {
   "cell_type": "code",
   "execution_count": 59,
   "metadata": {
    "id": "k_2mZf1hKFAV"
   },
   "outputs": [],
   "source": [
    "# This are cols are imp because there are highly correlated with co2"
   ]
  },
  {
   "cell_type": "code",
   "execution_count": 60,
   "metadata": {
    "colab": {
     "base_uri": "https://localhost:8080/",
     "height": 273
    },
    "id": "gpQ-jA-H1oPh",
    "outputId": "5d6ee86b-e041-4bab-bbf2-806c09dee100"
   },
   "outputs": [
    {
     "data": {
      "text/html": [
       "<div>\n",
       "<style scoped>\n",
       "    .dataframe tbody tr th:only-of-type {\n",
       "        vertical-align: middle;\n",
       "    }\n",
       "\n",
       "    .dataframe tbody tr th {\n",
       "        vertical-align: top;\n",
       "    }\n",
       "\n",
       "    .dataframe thead th {\n",
       "        text-align: right;\n",
       "    }\n",
       "</style>\n",
       "<table border=\"1\" class=\"dataframe\">\n",
       "  <thead>\n",
       "    <tr style=\"text-align: right;\">\n",
       "      <th></th>\n",
       "      <th>Engine_Size</th>\n",
       "      <th>Cylinders</th>\n",
       "      <th>Fuel_Consumption_City</th>\n",
       "      <th>Fuel_Consumption_hwy</th>\n",
       "      <th>Fuel_Consumption_Comb1</th>\n",
       "      <th>Fuel_Consumption_Comb2</th>\n",
       "      <th>CO2_Emissions</th>\n",
       "      <th>fuel_type_Ethanol</th>\n",
       "      <th>fuel_type_Natural Gas</th>\n",
       "      <th>fuel_type_Premium Gasoline</th>\n",
       "      <th>...</th>\n",
       "      <th>transmission_AM</th>\n",
       "      <th>transmission_AS</th>\n",
       "      <th>transmission_AV</th>\n",
       "      <th>transmission_M</th>\n",
       "      <th>make_Luxury</th>\n",
       "      <th>make_Premium</th>\n",
       "      <th>make_Sports</th>\n",
       "      <th>vehicle_class_SUV</th>\n",
       "      <th>vehicle_class_Sedan</th>\n",
       "      <th>vehicle_class_Truck</th>\n",
       "    </tr>\n",
       "  </thead>\n",
       "  <tbody>\n",
       "    <tr>\n",
       "      <th>0</th>\n",
       "      <td>2.0</td>\n",
       "      <td>4</td>\n",
       "      <td>9.9</td>\n",
       "      <td>6.7</td>\n",
       "      <td>8.5</td>\n",
       "      <td>33</td>\n",
       "      <td>196</td>\n",
       "      <td>0</td>\n",
       "      <td>0</td>\n",
       "      <td>1</td>\n",
       "      <td>...</td>\n",
       "      <td>0</td>\n",
       "      <td>1</td>\n",
       "      <td>0</td>\n",
       "      <td>0</td>\n",
       "      <td>1</td>\n",
       "      <td>0</td>\n",
       "      <td>0</td>\n",
       "      <td>0</td>\n",
       "      <td>0</td>\n",
       "      <td>0</td>\n",
       "    </tr>\n",
       "    <tr>\n",
       "      <th>1</th>\n",
       "      <td>2.4</td>\n",
       "      <td>4</td>\n",
       "      <td>11.2</td>\n",
       "      <td>7.7</td>\n",
       "      <td>9.6</td>\n",
       "      <td>29</td>\n",
       "      <td>221</td>\n",
       "      <td>0</td>\n",
       "      <td>0</td>\n",
       "      <td>1</td>\n",
       "      <td>...</td>\n",
       "      <td>0</td>\n",
       "      <td>0</td>\n",
       "      <td>0</td>\n",
       "      <td>1</td>\n",
       "      <td>1</td>\n",
       "      <td>0</td>\n",
       "      <td>0</td>\n",
       "      <td>0</td>\n",
       "      <td>0</td>\n",
       "      <td>0</td>\n",
       "    </tr>\n",
       "    <tr>\n",
       "      <th>2</th>\n",
       "      <td>1.5</td>\n",
       "      <td>4</td>\n",
       "      <td>6.0</td>\n",
       "      <td>5.8</td>\n",
       "      <td>5.9</td>\n",
       "      <td>48</td>\n",
       "      <td>136</td>\n",
       "      <td>0</td>\n",
       "      <td>0</td>\n",
       "      <td>1</td>\n",
       "      <td>...</td>\n",
       "      <td>0</td>\n",
       "      <td>0</td>\n",
       "      <td>1</td>\n",
       "      <td>0</td>\n",
       "      <td>1</td>\n",
       "      <td>0</td>\n",
       "      <td>0</td>\n",
       "      <td>0</td>\n",
       "      <td>0</td>\n",
       "      <td>0</td>\n",
       "    </tr>\n",
       "    <tr>\n",
       "      <th>3</th>\n",
       "      <td>3.5</td>\n",
       "      <td>6</td>\n",
       "      <td>12.7</td>\n",
       "      <td>9.1</td>\n",
       "      <td>11.1</td>\n",
       "      <td>25</td>\n",
       "      <td>255</td>\n",
       "      <td>0</td>\n",
       "      <td>0</td>\n",
       "      <td>1</td>\n",
       "      <td>...</td>\n",
       "      <td>0</td>\n",
       "      <td>1</td>\n",
       "      <td>0</td>\n",
       "      <td>0</td>\n",
       "      <td>1</td>\n",
       "      <td>0</td>\n",
       "      <td>0</td>\n",
       "      <td>1</td>\n",
       "      <td>0</td>\n",
       "      <td>0</td>\n",
       "    </tr>\n",
       "    <tr>\n",
       "      <th>4</th>\n",
       "      <td>3.5</td>\n",
       "      <td>6</td>\n",
       "      <td>12.1</td>\n",
       "      <td>8.7</td>\n",
       "      <td>10.6</td>\n",
       "      <td>27</td>\n",
       "      <td>244</td>\n",
       "      <td>0</td>\n",
       "      <td>0</td>\n",
       "      <td>1</td>\n",
       "      <td>...</td>\n",
       "      <td>0</td>\n",
       "      <td>1</td>\n",
       "      <td>0</td>\n",
       "      <td>0</td>\n",
       "      <td>1</td>\n",
       "      <td>0</td>\n",
       "      <td>0</td>\n",
       "      <td>1</td>\n",
       "      <td>0</td>\n",
       "      <td>0</td>\n",
       "    </tr>\n",
       "  </tbody>\n",
       "</table>\n",
       "<p>5 rows × 21 columns</p>\n",
       "</div>"
      ],
      "text/plain": [
       "   Engine_Size  Cylinders  Fuel_Consumption_City  Fuel_Consumption_hwy  \\\n",
       "0          2.0          4                    9.9                   6.7   \n",
       "1          2.4          4                   11.2                   7.7   \n",
       "2          1.5          4                    6.0                   5.8   \n",
       "3          3.5          6                   12.7                   9.1   \n",
       "4          3.5          6                   12.1                   8.7   \n",
       "\n",
       "   Fuel_Consumption_Comb1  Fuel_Consumption_Comb2  CO2_Emissions  \\\n",
       "0                     8.5                      33            196   \n",
       "1                     9.6                      29            221   \n",
       "2                     5.9                      48            136   \n",
       "3                    11.1                      25            255   \n",
       "4                    10.6                      27            244   \n",
       "\n",
       "   fuel_type_Ethanol  fuel_type_Natural Gas  fuel_type_Premium Gasoline  ...  \\\n",
       "0                  0                      0                           1  ...   \n",
       "1                  0                      0                           1  ...   \n",
       "2                  0                      0                           1  ...   \n",
       "3                  0                      0                           1  ...   \n",
       "4                  0                      0                           1  ...   \n",
       "\n",
       "   transmission_AM  transmission_AS  transmission_AV  transmission_M  \\\n",
       "0                0                1                0               0   \n",
       "1                0                0                0               1   \n",
       "2                0                0                1               0   \n",
       "3                0                1                0               0   \n",
       "4                0                1                0               0   \n",
       "\n",
       "   make_Luxury  make_Premium  make_Sports  vehicle_class_SUV  \\\n",
       "0            1             0            0                  0   \n",
       "1            1             0            0                  0   \n",
       "2            1             0            0                  0   \n",
       "3            1             0            0                  1   \n",
       "4            1             0            0                  1   \n",
       "\n",
       "   vehicle_class_Sedan  vehicle_class_Truck  \n",
       "0                    0                    0  \n",
       "1                    0                    0  \n",
       "2                    0                    0  \n",
       "3                    0                    0  \n",
       "4                    0                    0  \n",
       "\n",
       "[5 rows x 21 columns]"
      ]
     },
     "execution_count": 60,
     "metadata": {},
     "output_type": "execute_result"
    }
   ],
   "source": [
    "# renaming the cols\n",
    "df.rename(columns={'make': 'Make','model':'Model', 'vehicle_class': 'Vehicles_Class', 'engine_size': 'Engine_Size', 'transmission':'Transmission',\n",
    "                    'cylinders': 'Cylinders', 'fuel_type': 'Fuel_Type', 'fuel_consumption_city': 'Fuel_Consumption_City',\n",
    "                   'fuel_consumption_hwy': 'Fuel_Consumption_hwy', 'fuel_consumption_comb(l/100km)': 'Fuel_Consumption_Comb1',\n",
    "                   'fuel_consumption_comb(mpg)': 'Fuel_Consumption_Comb2', 'co2_emissions': 'CO2_Emissions'},\n",
    "          inplace=True)\n",
    "df.head()"
   ]
  },
  {
   "cell_type": "code",
   "execution_count": 61,
   "metadata": {
    "colab": {
     "base_uri": "https://localhost:8080/"
    },
    "id": "NDsOcpEnu5ji",
    "outputId": "e545e101-e1be-444a-acdb-5bf56ed1656b"
   },
   "outputs": [
    {
     "data": {
      "text/plain": [
       "Index(['Engine_Size', 'Cylinders', 'Fuel_Consumption_City',\n",
       "       'Fuel_Consumption_hwy', 'Fuel_Consumption_Comb1',\n",
       "       'Fuel_Consumption_Comb2', 'CO2_Emissions', 'fuel_type_Ethanol',\n",
       "       'fuel_type_Natural Gas', 'fuel_type_Premium Gasoline',\n",
       "       'fuel_type_Regular Gasoline', 'transmission_AM', 'transmission_AS',\n",
       "       'transmission_AV', 'transmission_M', 'make_Luxury', 'make_Premium',\n",
       "       'make_Sports', 'vehicle_class_SUV', 'vehicle_class_Sedan',\n",
       "       'vehicle_class_Truck'],\n",
       "      dtype='object')"
      ]
     },
     "execution_count": 61,
     "metadata": {},
     "output_type": "execute_result"
    }
   ],
   "source": [
    "df.columns"
   ]
  },
  {
   "cell_type": "code",
   "execution_count": 62,
   "metadata": {
    "colab": {
     "base_uri": "https://localhost:8080/",
     "height": 573
    },
    "id": "gZeOhPTUau02",
    "outputId": "a7521792-07bc-4102-e918-4cf4a7064192"
   },
   "outputs": [
    {
     "data": {
      "image/png": "[encoded data removed]",
      "text/plain": [
       "<Figure size 720x432 with 1 Axes>"
      ]
     },
     "metadata": {},
     "output_type": "display_data"
    }
   ],
   "source": [
    "# for features select using randomforest regression\n",
    "from sklearn.ensemble import RandomForestRegressor\n",
    "import matplotlib.pyplot as plt\n",
    "\n",
    "# Assuming 'df' is your DataFrame with the specified columns\n",
    "X = df[['Engine_Size', 'Cylinders', 'Fuel_Consumption_City',\n",
    "          'Fuel_Consumption_hwy', 'Fuel_Consumption_Comb1']]\n",
    "\n",
    "y = df['CO2_Emissions']  # Corrected the DataFrame name to df1\n",
    "\n",
    "# Create a Random Forest Regressor model\n",
    "rf_model = RandomForestRegressor(n_estimators=100, random_state=42)\n",
    "\n",
    "# Fit the model\n",
    "rf_model.fit(X, y)\n",
    "\n",
    "# Get feature importances\n",
    "feature_importances = rf_model.feature_importances_\n",
    "\n",
    "# Create a DataFrame to display feature importances\n",
    "feature_importance_df = pd.DataFrame({'Feature': X.columns, 'Importance': feature_importances})\n",
    "feature_importance_df = feature_importance_df.sort_values(by='Importance', ascending=False)\n",
    "\n",
    "# Plot feature importances\n",
    "plt.figure(figsize=(10, 6))\n",
    "plt.barh(feature_importance_df['Feature'], feature_importance_df['Importance'])\n",
    "plt.xlabel('Importance')\n",
    "plt.title('Feature Importance for CO2 Emissions Prediction')\n",
    "plt.show()\n",
    "\n"
   ]
  },
  {
   "cell_type": "code",
   "execution_count": 63,
   "metadata": {
    "colab": {
     "base_uri": "https://localhost:8080/",
     "height": 423
    },
    "id": "fgTXbPOojnwT",
    "outputId": "8b2f8483-3d27-4946-979c-95d49a01fdbc"
   },
   "outputs": [
    {
     "data": {
      "text/html": [
       "<div>\n",
       "<style scoped>\n",
       "    .dataframe tbody tr th:only-of-type {\n",
       "        vertical-align: middle;\n",
       "    }\n",
       "\n",
       "    .dataframe tbody tr th {\n",
       "        vertical-align: top;\n",
       "    }\n",
       "\n",
       "    .dataframe thead th {\n",
       "        text-align: right;\n",
       "    }\n",
       "</style>\n",
       "<table border=\"1\" class=\"dataframe\">\n",
       "  <thead>\n",
       "    <tr style=\"text-align: right;\">\n",
       "      <th></th>\n",
       "      <th>Engine_Size</th>\n",
       "      <th>Cylinders</th>\n",
       "      <th>Fuel_Consumption_Comb1</th>\n",
       "      <th>CO2_Emissions</th>\n",
       "    </tr>\n",
       "  </thead>\n",
       "  <tbody>\n",
       "    <tr>\n",
       "      <th>0</th>\n",
       "      <td>2.0</td>\n",
       "      <td>4</td>\n",
       "      <td>8.5</td>\n",
       "      <td>196</td>\n",
       "    </tr>\n",
       "    <tr>\n",
       "      <th>1</th>\n",
       "      <td>2.4</td>\n",
       "      <td>4</td>\n",
       "      <td>9.6</td>\n",
       "      <td>221</td>\n",
       "    </tr>\n",
       "    <tr>\n",
       "      <th>2</th>\n",
       "      <td>1.5</td>\n",
       "      <td>4</td>\n",
       "      <td>5.9</td>\n",
       "      <td>136</td>\n",
       "    </tr>\n",
       "    <tr>\n",
       "      <th>3</th>\n",
       "      <td>3.5</td>\n",
       "      <td>6</td>\n",
       "      <td>11.1</td>\n",
       "      <td>255</td>\n",
       "    </tr>\n",
       "    <tr>\n",
       "      <th>4</th>\n",
       "      <td>3.5</td>\n",
       "      <td>6</td>\n",
       "      <td>10.6</td>\n",
       "      <td>244</td>\n",
       "    </tr>\n",
       "    <tr>\n",
       "      <th>...</th>\n",
       "      <td>...</td>\n",
       "      <td>...</td>\n",
       "      <td>...</td>\n",
       "      <td>...</td>\n",
       "    </tr>\n",
       "    <tr>\n",
       "      <th>6268</th>\n",
       "      <td>2.0</td>\n",
       "      <td>4</td>\n",
       "      <td>9.4</td>\n",
       "      <td>219</td>\n",
       "    </tr>\n",
       "    <tr>\n",
       "      <th>6269</th>\n",
       "      <td>2.0</td>\n",
       "      <td>4</td>\n",
       "      <td>9.9</td>\n",
       "      <td>232</td>\n",
       "    </tr>\n",
       "    <tr>\n",
       "      <th>6270</th>\n",
       "      <td>2.0</td>\n",
       "      <td>4</td>\n",
       "      <td>10.3</td>\n",
       "      <td>240</td>\n",
       "    </tr>\n",
       "    <tr>\n",
       "      <th>6271</th>\n",
       "      <td>2.0</td>\n",
       "      <td>4</td>\n",
       "      <td>9.9</td>\n",
       "      <td>232</td>\n",
       "    </tr>\n",
       "    <tr>\n",
       "      <th>6272</th>\n",
       "      <td>2.0</td>\n",
       "      <td>4</td>\n",
       "      <td>10.7</td>\n",
       "      <td>248</td>\n",
       "    </tr>\n",
       "  </tbody>\n",
       "</table>\n",
       "<p>6273 rows × 4 columns</p>\n",
       "</div>"
      ],
      "text/plain": [
       "      Engine_Size  Cylinders  Fuel_Consumption_Comb1  CO2_Emissions\n",
       "0             2.0          4                     8.5            196\n",
       "1             2.4          4                     9.6            221\n",
       "2             1.5          4                     5.9            136\n",
       "3             3.5          6                    11.1            255\n",
       "4             3.5          6                    10.6            244\n",
       "...           ...        ...                     ...            ...\n",
       "6268          2.0          4                     9.4            219\n",
       "6269          2.0          4                     9.9            232\n",
       "6270          2.0          4                    10.3            240\n",
       "6271          2.0          4                     9.9            232\n",
       "6272          2.0          4                    10.7            248\n",
       "\n",
       "[6273 rows x 4 columns]"
      ]
     },
     "execution_count": 63,
     "metadata": {},
     "output_type": "execute_result"
    }
   ],
   "source": [
    "df1=df[['Engine_Size','Cylinders','Fuel_Consumption_Comb1','CO2_Emissions']]\n",
    "\n",
    "df1"
   ]
  },
  {
   "cell_type": "code",
   "execution_count": 64,
   "metadata": {
    "colab": {
     "base_uri": "https://localhost:8080/"
    },
    "id": "4dUCkiiyM3nO",
    "outputId": "9d584b03-8b8a-44b7-8865-b8fd4ad59566"
   },
   "outputs": [
    {
     "name": "stdout",
     "output_type": "stream",
     "text": [
      "Column  engine_size  : ShapiroResult(statistic=0.9172186851501465, pvalue=0.0)\n",
      "Column  cylinders  : ShapiroResult(statistic=0.8066160678863525, pvalue=0.0)\n",
      "Column  fuel_consumption_city  : ShapiroResult(statistic=0.9612039923667908, pvalue=5.55472805492446e-38)\n",
      "Column  fuel_consumption_hwy  : ShapiroResult(statistic=0.93942791223526, pvalue=7.006492321624085e-45)\n",
      "Column  fuel_consumption_comb(l/100km)  : ShapiroResult(statistic=0.9552431702613831, pvalue=3.955038798695007e-40)\n",
      "Column  fuel_consumption_comb(mpg)  : ShapiroResult(statistic=0.9586452841758728, pvalue=6.203275048365422e-39)\n",
      "Column  co2_emissions  : ShapiroResult(statistic=0.9814016819000244, pvalue=6.598846509263041e-28)\n"
     ]
    }
   ],
   "source": [
    "# #Feature Scaling\n",
    "import statsmodels\n",
    "from scipy import stats\n",
    "for col in df_num_features.columns:\n",
    "    print(\"Column \", col, \" :\", stats.shapiro(df_num_features[col]))"
   ]
  },
  {
   "cell_type": "markdown",
   "metadata": {
    "id": "HKJ7QrQFhbAo"
   },
   "source": [
    "Since the numerical features are normally distributed (p-value<0.05) , we will perform Min-Max normalisation to scale the data"
   ]
  },
  {
   "cell_type": "markdown",
   "metadata": {
    "id": "IDfJpR57hTbn"
   },
   "source": [
    "Normalization\n",
    "\n",
    "The formula for Min-Max Scaling\n",
    "\n",
    "Normalisation=X-X(min)/X(max)-X(min)\n",
    "\n",
    "1)X is the original value of the feature.\n",
    "\n",
    "2)X(min) is the minimum value of the feature.\n",
    "\n",
    "3)X(max) is the maximum value of the feature"
   ]
  },
  {
   "cell_type": "code",
   "execution_count": 65,
   "metadata": {
    "colab": {
     "base_uri": "https://localhost:8080/",
     "height": 423
    },
    "id": "QfxUwbkpjhuW",
    "outputId": "2a953ee1-2270-48a1-d6fd-919d8f34af50"
   },
   "outputs": [
    {
     "data": {
      "text/html": [
       "<div>\n",
       "<style scoped>\n",
       "    .dataframe tbody tr th:only-of-type {\n",
       "        vertical-align: middle;\n",
       "    }\n",
       "\n",
       "    .dataframe tbody tr th {\n",
       "        vertical-align: top;\n",
       "    }\n",
       "\n",
       "    .dataframe thead th {\n",
       "        text-align: right;\n",
       "    }\n",
       "</style>\n",
       "<table border=\"1\" class=\"dataframe\">\n",
       "  <thead>\n",
       "    <tr style=\"text-align: right;\">\n",
       "      <th></th>\n",
       "      <th>Engine_Size</th>\n",
       "      <th>Cylinders</th>\n",
       "      <th>Fuel_Consumption_Comb1</th>\n",
       "    </tr>\n",
       "  </thead>\n",
       "  <tbody>\n",
       "    <tr>\n",
       "      <th>0</th>\n",
       "      <td>0.15</td>\n",
       "      <td>0.08</td>\n",
       "      <td>0.20</td>\n",
       "    </tr>\n",
       "    <tr>\n",
       "      <th>1</th>\n",
       "      <td>0.20</td>\n",
       "      <td>0.08</td>\n",
       "      <td>0.25</td>\n",
       "    </tr>\n",
       "    <tr>\n",
       "      <th>2</th>\n",
       "      <td>0.08</td>\n",
       "      <td>0.08</td>\n",
       "      <td>0.08</td>\n",
       "    </tr>\n",
       "    <tr>\n",
       "      <th>3</th>\n",
       "      <td>0.35</td>\n",
       "      <td>0.23</td>\n",
       "      <td>0.32</td>\n",
       "    </tr>\n",
       "    <tr>\n",
       "      <th>4</th>\n",
       "      <td>0.35</td>\n",
       "      <td>0.23</td>\n",
       "      <td>0.30</td>\n",
       "    </tr>\n",
       "    <tr>\n",
       "      <th>...</th>\n",
       "      <td>...</td>\n",
       "      <td>...</td>\n",
       "      <td>...</td>\n",
       "    </tr>\n",
       "    <tr>\n",
       "      <th>6268</th>\n",
       "      <td>0.15</td>\n",
       "      <td>0.08</td>\n",
       "      <td>0.24</td>\n",
       "    </tr>\n",
       "    <tr>\n",
       "      <th>6269</th>\n",
       "      <td>0.15</td>\n",
       "      <td>0.08</td>\n",
       "      <td>0.26</td>\n",
       "    </tr>\n",
       "    <tr>\n",
       "      <th>6270</th>\n",
       "      <td>0.15</td>\n",
       "      <td>0.08</td>\n",
       "      <td>0.28</td>\n",
       "    </tr>\n",
       "    <tr>\n",
       "      <th>6271</th>\n",
       "      <td>0.15</td>\n",
       "      <td>0.08</td>\n",
       "      <td>0.26</td>\n",
       "    </tr>\n",
       "    <tr>\n",
       "      <th>6272</th>\n",
       "      <td>0.15</td>\n",
       "      <td>0.08</td>\n",
       "      <td>0.30</td>\n",
       "    </tr>\n",
       "  </tbody>\n",
       "</table>\n",
       "<p>6273 rows × 3 columns</p>\n",
       "</div>"
      ],
      "text/plain": [
       "      Engine_Size  Cylinders  Fuel_Consumption_Comb1\n",
       "0            0.15       0.08                    0.20\n",
       "1            0.20       0.08                    0.25\n",
       "2            0.08       0.08                    0.08\n",
       "3            0.35       0.23                    0.32\n",
       "4            0.35       0.23                    0.30\n",
       "...           ...        ...                     ...\n",
       "6268         0.15       0.08                    0.24\n",
       "6269         0.15       0.08                    0.26\n",
       "6270         0.15       0.08                    0.28\n",
       "6271         0.15       0.08                    0.26\n",
       "6272         0.15       0.08                    0.30\n",
       "\n",
       "[6273 rows x 3 columns]"
      ]
     },
     "execution_count": 65,
     "metadata": {},
     "output_type": "execute_result"
    }
   ],
   "source": [
    "##Normalization\n",
    "X = df1.drop(['CO2_Emissions'], axis= 1).astype(np.float32)\n",
    "y = df1[\"CO2_Emissions\"].astype(np.float32)\n",
    "# Normalize\n",
    "X = (X - np.min(X)) / (np.max(X) - np.min(X))\n",
    "X[\"Engine_Size\"]=X[\"Engine_Size\"].map(lambda x:round(x,2))\n",
    "X[\"Cylinders\"]=X[\"Cylinders\"].map(lambda x:round(x,2))\n",
    "X[\"Fuel_Consumption_Comb1\"]=X[\"Fuel_Consumption_Comb1\"].map(lambda x:round(x,2))\n",
    "X"
   ]
  },
  {
   "cell_type": "code",
   "execution_count": 66,
   "metadata": {
    "id": "AeNyOxl6XaEj"
   },
   "outputs": [],
   "source": [
    "# Model Building"
   ]
  },
  {
   "cell_type": "code",
   "execution_count": 67,
   "metadata": {
    "colab": {
     "base_uri": "https://localhost:8080/"
    },
    "id": "wfRLilqy7q64",
    "outputId": "0d45545d-ec37-45a7-c6d5-c6e9e95909c5"
   },
   "outputs": [
    {
     "name": "stdout",
     "output_type": "stream",
     "text": [
      "X_train (4391, 3)\n",
      "y_train (4391,)\n",
      "X_test (1882, 3)\n",
      "y_test (1882,)\n"
     ]
    }
   ],
   "source": [
    "from sklearn.model_selection import train_test_split, cross_val_score\n",
    "X_train, X_test, y_train, y_test = train_test_split(X, y, test_size=0.3, random_state=42)\n",
    "\n",
    "print(\"X_train\", X_train.shape)\n",
    "print(\"y_train\",y_train.shape)\n",
    "print(\"X_test\",X_test.shape)\n",
    "print(\"y_test\",y_test.shape)"
   ]
  },
  {
   "cell_type": "code",
   "execution_count": 68,
   "metadata": {
    "colab": {
     "base_uri": "https://localhost:8080/"
    },
    "id": "9vPo_B3CH-s6",
    "outputId": "c4a37de0-0b21-4511-9eed-facdbfe83cf0"
   },
   "outputs": [
    {
     "name": "stdout",
     "output_type": "stream",
     "text": [
      "Cross-Validation R-squared Scores for each fold: [0.84605936 0.84766282 0.88787597 0.89514585 0.89346359]\n",
      "Mean R-squared across all folds: 0.8740415195716936\n",
      "R-squared on the entire dataset: 0.8784685259465617\n",
      "Mean Squared Error (MSE) on the entire dataset: 426.36556942815616\n"
     ]
    }
   ],
   "source": [
    "from sklearn.linear_model import LinearRegression\n",
    "from sklearn.metrics import mean_squared_error\n",
    "from sklearn.metrics import r2_score\n",
    "X = df[['Engine_Size','Cylinders','Fuel_Consumption_Comb1']]\n",
    "y = df['CO2_Emissions']\n",
    "\n",
    "# Create a linear regression model\n",
    "model = LinearRegression()\n",
    "\n",
    "# Perform cross-validation\n",
    "cv_scores = cross_val_score(model, X, y, cv=5, scoring='r2')\n",
    "\n",
    "# Fit the model to the entire dataset\n",
    "model.fit(X, y)\n",
    "\n",
    "# Make predictions on the entire dataset\n",
    "y_pred = model.predict(X)\n",
    "\n",
    "# Calculate R-squared value\n",
    "r2_squared1 = r2_score(y, y_pred)\n",
    "\n",
    "# Calculate Mean Squared Error (MSE)\n",
    "mse_value = mean_squared_error(y, y_pred)\n",
    "\n",
    "# Print the results\n",
    "print(\"Cross-Validation R-squared Scores for each fold:\", cv_scores)\n",
    "print(\"Mean R-squared across all folds:\", np.mean(cv_scores))\n",
    "print(\"R-squared on the entire dataset:\", r2_squared1)\n",
    "print(\"Mean Squared Error (MSE) on the entire dataset:\", mse_value)"
   ]
  },
  {
   "cell_type": "code",
   "execution_count": 69,
   "metadata": {
    "colab": {
     "base_uri": "https://localhost:8080/"
    },
    "id": "Z2ZCHI526WhM",
    "outputId": "61679ca3-bb82-4169-d954-7c05c4774856"
   },
   "outputs": [
    {
     "name": "stdout",
     "output_type": "stream",
     "text": [
      "Coefficients: [ 5.44645024  6.71669673 13.13391142]\n",
      "Intercept: 51.57109484210736\n",
      "Root Mean Squared Error (RMSE): 21.748600215115648\n",
      "R-squared (R2): 0.8680416256883813\n",
      "Cross-validated RMSE: [24.31281681 23.16936914 19.05142186 18.77268271 19.42808923]\n"
     ]
    }
   ],
   "source": [
    "from sklearn.model_selection import cross_val_score, train_test_split\n",
    "from sklearn.linear_model import LinearRegression\n",
    "from sklearn.metrics import mean_squared_error\n",
    "from sklearn.metrics import r2_score\n",
    "# Split the data into features (X) and target variable (y)\n",
    "\n",
    "\n",
    "# Split the data into training and testing sets\n",
    "X_train, X_test, y_train, y_test = train_test_split(X, y, test_size=0.2, random_state=42)\n",
    "\n",
    "# Initialize the linear regression model\n",
    "model = LinearRegression()\n",
    "\n",
    "# Perform cross-validation\n",
    "cv_scores = cross_val_score(model, X, y, cv=5, scoring='neg_mean_squared_error')\n",
    "\n",
    "# Convert the negative MSE scores to positive and calculate RMSE\n",
    "rmse_cv = np.sqrt(-cv_scores)\n",
    "\n",
    "# Fit the model to the training data\n",
    "model.fit(X_train, y_train)\n",
    "\n",
    "# Make predictions on the test data\n",
    "y_pred = model.predict(X_test)\n",
    "\n",
    "# Evaluate the model\n",
    "mse = mean_squared_error(y_test, y_pred)\n",
    "rmse = np.sqrt(mse)\n",
    "r2_squared2 = r2_score(y_test, y_pred)\n",
    "\n",
    "# Display the coefficients and intercept\n",
    "coefficients = model.coef_\n",
    "intercept = model.intercept_\n",
    "\n",
    "print(\"Coefficients:\", coefficients)\n",
    "print(\"Intercept:\", intercept)\n",
    "print(\"Root Mean Squared Error (RMSE):\", rmse)\n",
    "print(\"R-squared (R2):\", r2_squared2)\n",
    "print(\"Cross-validated RMSE:\", rmse_cv)"
   ]
  },
  {
   "cell_type": "code",
   "execution_count": 70,
   "metadata": {
    "colab": {
     "base_uri": "https://localhost:8080/"
    },
    "id": "F3FTeNCPH10W",
    "outputId": "738876c5-c942-4f4c-bb2f-c3097de554f4"
   },
   "outputs": [
    {
     "name": "stdout",
     "output_type": "stream",
     "text": [
      "Cross-Validation R-squared Scores for each fold: [0.89638927 0.96651925 0.97543763 0.97771399 0.97719824]\n",
      "Mean R-squared across all folds: 0.9586516770004673\n",
      "R-squared on the entire dataset: 0.9891467491092979\n"
     ]
    }
   ],
   "source": [
    "from sklearn.tree import DecisionTreeRegressor\n",
    "# Create a decision tree model\n",
    "model = DecisionTreeRegressor()\n",
    "\n",
    "# Perform cross-validation\n",
    "cv_scores = cross_val_score(model, X, y, cv=5, scoring='r2')\n",
    "\n",
    "# Fit the model to the entire dataset\n",
    "model.fit(X, y)\n",
    "\n",
    "# Make predictions on the entire dataset\n",
    "y_pred = model.predict(X)\n",
    "\n",
    "# Calculate R-squared value\n",
    "r2_squared4 = r2_score(y, y_pred)\n",
    "\n",
    "\n",
    "\n",
    "# Print the results\n",
    "\n",
    "print(\"Cross-Validation R-squared Scores for each fold:\", cv_scores)\n",
    "print(\"Mean R-squared across all folds:\", np.mean(cv_scores))\n",
    "print(\"R-squared on the entire dataset:\", r2_squared4)"
   ]
  },
  {
   "cell_type": "code",
   "execution_count": 71,
   "metadata": {
    "colab": {
     "base_uri": "https://localhost:8080/"
    },
    "id": "Z8IYAq6tQDpA",
    "outputId": "295a8519-a2b8-40b3-ed7f-a18f2ded76df"
   },
   "outputs": [
    {
     "name": "stdout",
     "output_type": "stream",
     "text": [
      "Root Mean Squared Error (RMSE): 9.560778821924291\n",
      "R-squared (R2): 0.9744987846298908\n",
      "Cross-validated (RMSE): [17.41586669 10.83660841  8.47654147  8.37632386  8.83035325]\n"
     ]
    }
   ],
   "source": [
    "\n",
    "from sklearn.ensemble import RandomForestRegressor\n",
    "# Split the data into training and testing sets\n",
    "\n",
    "\n",
    "\n",
    "# Initialize the Random Forest Regressor model\n",
    "rf_model = RandomForestRegressor(n_estimators=100, random_state=42)\n",
    "\n",
    "# Perform cross-validation\n",
    "cv_scores = cross_val_score(rf_model, X, y, cv=5, scoring='neg_mean_squared_error')\n",
    "\n",
    "# Convert the negative MSE scores to positive and calculate RMSE\n",
    "rmse_cv = np.sqrt(-cv_scores)\n",
    "\n",
    "# Fit the model to the training data\n",
    "rf_model.fit(X_train, y_train)\n",
    "# Fit the model to the training data\n",
    "rf_model.fit(X_train, y_train)\n",
    "\n",
    "# Make predictions on the test set\n",
    "y_pred = rf_model.predict(X_test)\n",
    "\n",
    "# Evaluate the model\n",
    "mse = mean_squared_error(y_test, y_pred)\n",
    "rmse = np.sqrt(mse)\n",
    "r2_squared3 = r2_score(y_test, y_pred)\n",
    "\n",
    "# Display the evaluation metrics\n",
    "print(\"Root Mean Squared Error (RMSE):\", rmse)\n",
    "print(\"R-squared (R2):\", r2_squared3)\n",
    "print(\"Cross-validated (RMSE):\", rmse_cv)"
   ]
  },
  {
   "cell_type": "code",
   "execution_count": 72,
   "metadata": {
    "colab": {
     "base_uri": "https://localhost:8080/"
    },
    "id": "sNro20GQDCX-",
    "outputId": "5fb26248-914c-4481-cb0f-6e2e2e83299c"
   },
   "outputs": [
    {
     "name": "stdout",
     "output_type": "stream",
     "text": [
      "           Model_Building  R-Square\n",
      "0        LinearRegression  0.878469\n",
      "1     Multiple Regression  0.868042\n",
      "2  RandomForestRegression  0.974499\n",
      "3  DecisionTreeRegression  0.989147\n"
     ]
    }
   ],
   "source": [
    "\n",
    "data = {\n",
    "    'Model_Building': ['LinearRegression', 'Multiple Regression', 'RandomForestRegression', 'DecisionTreeRegression'],\n",
    "    'R-Square': [r2_squared1, r2_squared2, r2_squared3, r2_squared4],\n",
    "}\n",
    "\n",
    "# Create a DataFrame\n",
    "df2 = pd.DataFrame(data)\n",
    "\n",
    "print(df2)"
   ]
  },
  {
   "cell_type": "code",
   "execution_count": 73,
   "metadata": {},
   "outputs": [],
   "source": [
    "import pickle\n",
    "with open('random_forest_model.pkl', 'wb') as model_file:\n",
    "     pickle.dump(rf_model, model_file)"
   ]
  },
  {
   "cell_type": "markdown",
   "metadata": {
    "id": "52s120E2NEOM"
   },
   "source": [
    "A higher R-squared value indicates a better fit of the model to the data. In your case, the Decision Tree Regressor has the highest R-squared value (0.989147) and explains a larger proportion of the variance in the target variable."
   ]
  },
  {
   "cell_type": "code",
   "execution_count": 74,
   "metadata": {
    "colab": {
     "base_uri": "https://localhost:8080/"
    },
    "id": "14ETUVXENDFM",
    "outputId": "8e1fa3bb-8451-403d-b21b-f693707aa950"
   },
   "outputs": [
    {
     "name": "stdout",
     "output_type": "stream",
     "text": [
      "Predicted CO2 Emission: 170.12679516969953\n"
     ]
    }
   ],
   "source": [
    "from  pickle import dump\n",
    "from pickle import load\n",
    "import pickle\n",
    "\n",
    "# Load the dataset\n",
    "# df1 = pd.read_csv('co2_emissions.csv')\n",
    "# df1.head(3)\n",
    "\n",
    "# Assume your target variable is 'CO2_Emission' and other features are used for prediction\n",
    "# Adjust the column names based on your actual dataset\n",
    "#X = df.drop('CO2_Emissions', axis=1)  # Features\n",
    "#y = df['CO2_Emissions']  # Target variable\n",
    "\n",
    "# # Split the dataset into training and testing sets\n",
    "# X_train, X_test, y_train, y_test = train_test_split(X, y, test_size=0.2, random_state=42)\n",
    "\n",
    "# # Train a Random Forest Regression model\n",
    "#model = RandomForestRegressor(n_estimators=100, random_state=42)\n",
    "#model.fit(X_train, y_train)\n",
    "\n",
    "# # Save the trained model to a file\n",
    "with open('random_forest_model.pkl', 'wb') as model_file:\n",
    "     pickle.dump(rf_model, model_file)\n",
    "\n",
    "# # Now, 'random_forest_model.pkl' contains your trained Random Forest model\n",
    "\n",
    "# # Load the model from the file\n",
    "with open('random_forest_model.pkl', 'rb') as model_file:\n",
    "   loaded_model=pickle.load(model_file)\n",
    "\n",
    "# Make predictions using the loaded model\n",
    "# Assume you have a specific row of data for prediction (X_new)\n",
    "# Adjust this based on your actual data\n",
    "X_new = X_test.iloc[0:1, :]  # Example: Using the first row of the test set\n",
    "prediction=loaded_model.predict(X_new)\n",
    "\n",
    "print(f'Predicted CO2 Emission: {prediction[0]}')"
   ]
  },
  {
   "cell_type": "code",
   "execution_count": null,
   "metadata": {
    "id": "1xEPofV3DChb"
   },
   "outputs": [],
   "source": []
  },
  {
   "cell_type": "code",
   "execution_count": null,
   "metadata": {
    "id": "2A95MxFxIJq7"
   },
   "outputs": [],
   "source": []
  },
  {
   "cell_type": "code",
   "execution_count": null,
   "metadata": {
    "id": "cjjbzLwEeg1b"
   },
   "outputs": [],
   "source": []
  },
  {
   "cell_type": "code",
   "execution_count": null,
   "metadata": {
    "id": "sMf2Zri1eg4Z"
   },
   "outputs": [],
   "source": []
  },
  {
   "cell_type": "code",
   "execution_count": null,
   "metadata": {
    "id": "XwYYRymEeg79"
   },
   "outputs": [],
   "source": []
  },
  {
   "cell_type": "markdown",
   "metadata": {
    "id": "2O0u3yNOW4EJ"
   },
   "source": [
    "\n",
    "\n",
    "\n",
    "\n"
   ]
  },
  {
   "cell_type": "code",
   "execution_count": null,
   "metadata": {
    "id": "fT26D7FaTuMY"
   },
   "outputs": [],
   "source": []
  },
  {
   "cell_type": "code",
   "execution_count": null,
   "metadata": {
    "id": "QENTKCG3TuPG"
   },
   "outputs": [],
   "source": []
  },
  {
   "cell_type": "code",
   "execution_count": null,
   "metadata": {
    "id": "PgKPHk81PANk"
   },
   "outputs": [],
   "source": []
  },
  {
   "cell_type": "code",
   "execution_count": null,
   "metadata": {
    "id": "Ci4LEhAUTqGM"
   },
   "outputs": [],
   "source": []
  },
  {
   "cell_type": "code",
   "execution_count": null,
   "metadata": {
    "id": "0NawpsusTqI5"
   },
   "outputs": [],
   "source": []
  },
  {
   "cell_type": "code",
   "execution_count": null,
   "metadata": {
    "id": "WL_sc0-oTqNJ"
   },
   "outputs": [],
   "source": []
  },
  {
   "cell_type": "code",
   "execution_count": null,
   "metadata": {
    "id": "FLORzr__WGst"
   },
   "outputs": [],
   "source": []
  },
  {
   "cell_type": "markdown",
   "metadata": {
    "id": "ou_9NFJeWHt7"
   },
   "source": []
  },
  {
   "cell_type": "code",
   "execution_count": null,
   "metadata": {
    "id": "-Uul-7AfPAQ0"
   },
   "outputs": [],
   "source": []
  },
  {
   "cell_type": "code",
   "execution_count": null,
   "metadata": {
    "id": "A0QNjbDNU7al"
   },
   "outputs": [],
   "source": []
  },
  {
   "cell_type": "markdown",
   "metadata": {
    "id": "CdznXAeD0clU"
   },
   "source": []
  },
  {
   "cell_type": "code",
   "execution_count": null,
   "metadata": {
    "id": "pXij27MKU79A"
   },
   "outputs": [],
   "source": []
  },
  {
   "cell_type": "code",
   "execution_count": null,
   "metadata": {
    "id": "3PgE3A0TlE3i"
   },
   "outputs": [],
   "source": []
  },
  {
   "cell_type": "markdown",
   "metadata": {
    "id": "VVpX9lV-lFzw"
   },
   "source": []
  },
  {
   "cell_type": "code",
   "execution_count": null,
   "metadata": {
    "id": "PUKJriQLU8BX"
   },
   "outputs": [],
   "source": []
  },
  {
   "cell_type": "code",
   "execution_count": null,
   "metadata": {
    "id": "1J8ObDX3l7iU"
   },
   "outputs": [],
   "source": []
  },
  {
   "cell_type": "markdown",
   "metadata": {
    "id": "2Wq3e4uDmC1e"
   },
   "source": []
  },
  {
   "cell_type": "code",
   "execution_count": null,
   "metadata": {
    "id": "pJ33wHOWU8GQ"
   },
   "outputs": [],
   "source": []
  },
  {
   "cell_type": "code",
   "execution_count": null,
   "metadata": {
    "id": "MOIGV7cpU8LT"
   },
   "outputs": [],
   "source": []
  },
  {
   "cell_type": "code",
   "execution_count": null,
   "metadata": {
    "id": "qc5TyvweU8Pj"
   },
   "outputs": [],
   "source": []
  },
  {
   "cell_type": "code",
   "execution_count": null,
   "metadata": {
    "id": "0wklwqvc0zK2"
   },
   "outputs": [],
   "source": []
  },
  {
   "cell_type": "markdown",
   "metadata": {
    "id": "zYimynoc00hV"
   },
   "source": [
    "\n"
   ]
  },
  {
   "cell_type": "code",
   "execution_count": null,
   "metadata": {
    "id": "1ahz2EQzU8WV"
   },
   "outputs": [],
   "source": []
  },
  {
   "cell_type": "code",
   "execution_count": null,
   "metadata": {
    "id": "WckBMgcrXNML"
   },
   "outputs": [],
   "source": []
  },
  {
   "cell_type": "markdown",
   "metadata": {
    "id": "PhCpnPGqXOT5"
   },
   "source": []
  },
  {
   "cell_type": "code",
   "execution_count": null,
   "metadata": {
    "id": "K4aBr0OBU8bL"
   },
   "outputs": [],
   "source": []
  },
  {
   "cell_type": "markdown",
   "metadata": {
    "id": "60iRx2wkGJx4"
   },
   "source": []
  },
  {
   "cell_type": "code",
   "execution_count": null,
   "metadata": {
    "id": "KVmMVUtWU8f-"
   },
   "outputs": [],
   "source": []
  },
  {
   "cell_type": "code",
   "execution_count": null,
   "metadata": {
    "id": "DqC7rxXqU8mZ"
   },
   "outputs": [],
   "source": []
  },
  {
   "cell_type": "code",
   "execution_count": null,
   "metadata": {
    "id": "f1EYl2efU8sd"
   },
   "outputs": [],
   "source": [
    "\n"
   ]
  },
  {
   "cell_type": "code",
   "execution_count": null,
   "metadata": {
    "id": "wpyeaZHjYR2R"
   },
   "outputs": [],
   "source": []
  },
  {
   "cell_type": "code",
   "execution_count": null,
   "metadata": {
    "id": "dn6VpQN8IOA_"
   },
   "outputs": [],
   "source": []
  },
  {
   "cell_type": "markdown",
   "metadata": {
    "id": "X2UWsB0JHEsC"
   },
   "source": [
    "\n",
    "\n",
    "> Indented block\n",
    "\n"
   ]
  },
  {
   "cell_type": "markdown",
   "metadata": {
    "id": "E_KQ4wLzgjvx"
   },
   "source": []
  },
  {
   "cell_type": "code",
   "execution_count": null,
   "metadata": {
    "id": "4qUZnbFwIQcT"
   },
   "outputs": [],
   "source": []
  },
  {
   "cell_type": "code",
   "execution_count": null,
   "metadata": {
    "id": "VYUYLl2yIQq5"
   },
   "outputs": [],
   "source": []
  },
  {
   "cell_type": "markdown",
   "metadata": {
    "id": "ZJSoTliCIprE"
   },
   "source": []
  },
  {
   "cell_type": "code",
   "execution_count": null,
   "metadata": {
    "id": "NhHBxEZ3I8rm"
   },
   "outputs": [],
   "source": []
  },
  {
   "cell_type": "code",
   "execution_count": null,
   "metadata": {
    "id": "vztH6KNmI865"
   },
   "outputs": [],
   "source": []
  },
  {
   "cell_type": "markdown",
   "metadata": {
    "id": "XasXETKJJPPE"
   },
   "source": []
  },
  {
   "cell_type": "code",
   "execution_count": null,
   "metadata": {
    "id": "IAr34_3YJYgS"
   },
   "outputs": [],
   "source": [
    "\n"
   ]
  },
  {
   "cell_type": "code",
   "execution_count": null,
   "metadata": {
    "id": "nGPOCYNEKmFj"
   },
   "outputs": [],
   "source": [
    "\n",
    "\n",
    "\n"
   ]
  },
  {
   "cell_type": "markdown",
   "metadata": {
    "id": "3y6p5wgGLeDp"
   },
   "source": []
  },
  {
   "cell_type": "code",
   "execution_count": null,
   "metadata": {
    "id": "J1AUL8JwYbrH"
   },
   "outputs": [],
   "source": []
  },
  {
   "cell_type": "code",
   "execution_count": null,
   "metadata": {
    "id": "6seFyd8HMBJJ"
   },
   "outputs": [],
   "source": []
  },
  {
   "cell_type": "code",
   "execution_count": null,
   "metadata": {
    "id": "qGCOj41lMKyZ"
   },
   "outputs": [],
   "source": []
  },
  {
   "cell_type": "code",
   "execution_count": null,
   "metadata": {
    "id": "vkDi9zWmY6-n"
   },
   "outputs": [],
   "source": []
  },
  {
   "cell_type": "code",
   "execution_count": null,
   "metadata": {
    "id": "89wNWjs5ZObV"
   },
   "outputs": [],
   "source": [
    "\n"
   ]
  },
  {
   "cell_type": "code",
   "execution_count": null,
   "metadata": {
    "id": "DZFbSDfPZiaz"
   },
   "outputs": [],
   "source": []
  },
  {
   "cell_type": "code",
   "execution_count": null,
   "metadata": {
    "id": "xGBYy-AwZ7tx"
   },
   "outputs": [],
   "source": []
  },
  {
   "cell_type": "code",
   "execution_count": null,
   "metadata": {
    "id": "L-i_mhjBaXh8"
   },
   "outputs": [],
   "source": []
  },
  {
   "cell_type": "markdown",
   "metadata": {
    "id": "QU4L-Qnom5WZ"
   },
   "source": []
  },
  {
   "cell_type": "code",
   "execution_count": null,
   "metadata": {
    "id": "89jc4hiAm76R"
   },
   "outputs": [],
   "source": []
  },
  {
   "cell_type": "code",
   "execution_count": null,
   "metadata": {
    "id": "KDUYM2ExPRBo"
   },
   "outputs": [],
   "source": []
  },
  {
   "cell_type": "code",
   "execution_count": null,
   "metadata": {
    "id": "tMGWr6p7PeSq"
   },
   "outputs": [],
   "source": []
  },
  {
   "cell_type": "code",
   "execution_count": null,
   "metadata": {
    "id": "kg1Yf4t7ZpEx"
   },
   "outputs": [],
   "source": []
  },
  {
   "cell_type": "code",
   "execution_count": null,
   "metadata": {
    "id": "czZAi5BzPn6f"
   },
   "outputs": [],
   "source": []
  },
  {
   "cell_type": "code",
   "execution_count": null,
   "metadata": {
    "id": "DVqrYBESPoF5"
   },
   "outputs": [],
   "source": []
  },
  {
   "cell_type": "markdown",
   "metadata": {
    "id": "-I6uUTnVQzgZ"
   },
   "source": []
  },
  {
   "cell_type": "code",
   "execution_count": null,
   "metadata": {
    "id": "YoorO03RPoJU"
   },
   "outputs": [],
   "source": []
  },
  {
   "cell_type": "code",
   "execution_count": null,
   "metadata": {
    "id": "W7Xtmo2RRbe8"
   },
   "outputs": [],
   "source": []
  },
  {
   "cell_type": "code",
   "execution_count": null,
   "metadata": {
    "id": "QlnY1OmEScby"
   },
   "outputs": [],
   "source": []
  },
  {
   "cell_type": "code",
   "execution_count": null,
   "metadata": {
    "id": "xTtSLbwIStsM"
   },
   "outputs": [],
   "source": []
  },
  {
   "cell_type": "code",
   "execution_count": null,
   "metadata": {
    "id": "eF2M6TOqUNeg"
   },
   "outputs": [],
   "source": []
  },
  {
   "cell_type": "code",
   "execution_count": null,
   "metadata": {
    "id": "5Bb5rnPSUaTj"
   },
   "outputs": [],
   "source": []
  },
  {
   "cell_type": "code",
   "execution_count": null,
   "metadata": {
    "id": "fMqlI6hRUwB7"
   },
   "outputs": [],
   "source": []
  },
  {
   "cell_type": "code",
   "execution_count": null,
   "metadata": {
    "id": "5vI_ucPjU-uS"
   },
   "outputs": [],
   "source": []
  },
  {
   "cell_type": "code",
   "execution_count": null,
   "metadata": {
    "id": "1gOluyzhVFmC"
   },
   "outputs": [],
   "source": []
  },
  {
   "cell_type": "code",
   "execution_count": null,
   "metadata": {
    "id": "A6F3JkQFVNjQ"
   },
   "outputs": [],
   "source": []
  },
  {
   "cell_type": "markdown",
   "metadata": {
    "id": "LmqLK0WsVX7g"
   },
   "source": []
  },
  {
   "cell_type": "code",
   "execution_count": null,
   "metadata": {
    "id": "mArF_HVyVYj-"
   },
   "outputs": [],
   "source": []
  },
  {
   "cell_type": "code",
   "execution_count": null,
   "metadata": {
    "id": "vBTesABEVmut"
   },
   "outputs": [],
   "source": []
  },
  {
   "cell_type": "markdown",
   "metadata": {
    "id": "Rd16hV9JV4n5"
   },
   "source": [
    "\n",
    "\n"
   ]
  },
  {
   "cell_type": "code",
   "execution_count": null,
   "metadata": {
    "id": "9zcV-JYeV5Rs"
   },
   "outputs": [],
   "source": []
  },
  {
   "cell_type": "markdown",
   "metadata": {
    "id": "bG5M66-nWQpI"
   },
   "source": []
  },
  {
   "cell_type": "code",
   "execution_count": null,
   "metadata": {
    "id": "QyhpZCwbWRdI"
   },
   "outputs": [],
   "source": []
  }
 ],
 "metadata": {
  "colab": {
   "provenance": []
  },
  "kernelspec": {
   "display_name": "Python 3 (ipykernel)",
   "language": "python",
   "name": "python3"
  },
  "language_info": {
   "codemirror_mode": {
    "name": "ipython",
    "version": 3
   },
   "file_extension": ".py",
   "mimetype": "text/x-python",
   "name": "python",
   "nbconvert_exporter": "python",
   "pygments_lexer": "ipython3",
   "version": "3.9.12"
  }
 },
 "nbformat": 4,
 "nbformat_minor": 1
}
